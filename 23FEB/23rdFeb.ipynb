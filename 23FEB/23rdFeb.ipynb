{
 "cells": [
  {
   "cell_type": "code",
   "execution_count": 1,
   "id": "5c865243-b79a-49cc-935e-f62077d97b27",
   "metadata": {},
   "outputs": [],
   "source": [
    "import pandas as pd"
   ]
  },
  {
   "cell_type": "markdown",
   "id": "2602a8e4-d80b-458f-8a45-bfc7af822456",
   "metadata": {},
   "source": [
    "Q1. Create a Pandas Series that contains the following data: 4, 8, 15, 16, 23, and 42. Then, print the series."
   ]
  },
  {
   "cell_type": "code",
   "execution_count": 2,
   "id": "3882d0f6-7674-417a-ab94-f54634ac6499",
   "metadata": {},
   "outputs": [
    {
     "data": {
      "text/plain": [
       "0     4\n",
       "1     8\n",
       "2    15\n",
       "3    16\n",
       "4    23\n",
       "5    42\n",
       "dtype: int64"
      ]
     },
     "execution_count": 2,
     "metadata": {},
     "output_type": "execute_result"
    }
   ],
   "source": [
    "pd.Series([4, 8, 15, 16, 23, 42])"
   ]
  },
  {
   "cell_type": "markdown",
   "id": "fb46ba65-7136-4b98-ae2e-ede5a9caaa61",
   "metadata": {},
   "source": [
    "Q2. Create a variable of list type containing 10 elements in it, and apply pandas.Series function on the variable print it."
   ]
  },
  {
   "cell_type": "code",
   "execution_count": 3,
   "id": "b4231d00-6f24-4ec9-997f-abba4d12ff28",
   "metadata": {},
   "outputs": [
    {
     "data": {
      "text/plain": [
       "0     23\n",
       "1     24\n",
       "2     25\n",
       "3     26\n",
       "4     27\n",
       "5     28\n",
       "6     29\n",
       "7     30\n",
       "8     31\n",
       "9     32\n",
       "10    33\n",
       "dtype: int64"
      ]
     },
     "execution_count": 3,
     "metadata": {},
     "output_type": "execute_result"
    }
   ],
   "source": [
    "lst = list(range(23,34))\n",
    "\n",
    "pd.Series(lst)"
   ]
  },
  {
   "cell_type": "markdown",
   "id": "ddfb9a2a-9514-4ae2-935f-bd1bf368d53a",
   "metadata": {},
   "source": [
    "Q3. Create a Pandas DataFrame that contains the following data:\n",
    "    \n",
    "Name\tAge\tgender\n",
    "\n",
    "Alice\t25\tFeamale\n",
    "\n",
    "Bob\t    30\t Male\n",
    "\n",
    "Claire\t27\tFeamale\n",
    "\n",
    "Then, print the DataFrame."
   ]
  },
  {
   "cell_type": "code",
   "execution_count": 5,
   "id": "6eb9d4f8-c703-4253-8453-c23b222642d6",
   "metadata": {},
   "outputs": [
    {
     "data": {
      "text/html": [
       "<div>\n",
       "<style scoped>\n",
       "    .dataframe tbody tr th:only-of-type {\n",
       "        vertical-align: middle;\n",
       "    }\n",
       "\n",
       "    .dataframe tbody tr th {\n",
       "        vertical-align: top;\n",
       "    }\n",
       "\n",
       "    .dataframe thead th {\n",
       "        text-align: right;\n",
       "    }\n",
       "</style>\n",
       "<table border=\"1\" class=\"dataframe\">\n",
       "  <thead>\n",
       "    <tr style=\"text-align: right;\">\n",
       "      <th></th>\n",
       "      <th>Name</th>\n",
       "      <th>Age</th>\n",
       "      <th>Gender</th>\n",
       "    </tr>\n",
       "  </thead>\n",
       "  <tbody>\n",
       "    <tr>\n",
       "      <th>0</th>\n",
       "      <td>Alice</td>\n",
       "      <td>25</td>\n",
       "      <td>Female</td>\n",
       "    </tr>\n",
       "    <tr>\n",
       "      <th>1</th>\n",
       "      <td>Bob</td>\n",
       "      <td>30</td>\n",
       "      <td>Male</td>\n",
       "    </tr>\n",
       "    <tr>\n",
       "      <th>2</th>\n",
       "      <td>Claire</td>\n",
       "      <td>27</td>\n",
       "      <td>Female</td>\n",
       "    </tr>\n",
       "  </tbody>\n",
       "</table>\n",
       "</div>"
      ],
      "text/plain": [
       "     Name  Age  Gender\n",
       "0   Alice   25  Female\n",
       "1     Bob   30    Male\n",
       "2  Claire   27  Female"
      ]
     },
     "execution_count": 5,
     "metadata": {},
     "output_type": "execute_result"
    }
   ],
   "source": [
    "d = {\n",
    "    'Name': ['Alice', 'Bob', 'Claire'],\n",
    "    'Age': [25, 30, 27],\n",
    "    'Gender': ['Female', 'Male', 'Female']\n",
    "}\n",
    "\n",
    "pd.DataFrame(d)"
   ]
  },
  {
   "cell_type": "markdown",
   "id": "ae4db190-c7d0-4a3f-9d67-8d96553b735b",
   "metadata": {},
   "source": [
    "Q4. What is ‘DataFrame’ in pandas and how is it different from pandas.series? Explain with an example.\n",
    "\n",
    "pd.Series is a one-dimensional object in pandas which contains can hold homogeneous data type objects in it.\n",
    "\n",
    "pd.DataFrame is a two-dimensional object in pandas which can hold multiple series at a time and manupulate its data."
   ]
  },
  {
   "cell_type": "code",
   "execution_count": 7,
   "id": "4e75a2b5-98ca-4b41-89f4-095a020d853d",
   "metadata": {},
   "outputs": [
    {
     "name": "stdout",
     "output_type": "stream",
     "text": [
      "0      5\n",
      "1     34\n",
      "2     45\n",
      "3    242\n",
      "4     45\n",
      "5     12\n",
      "6      1\n",
      "7      0\n",
      "8    214\n",
      "9     45\n",
      "dtype: int64\n"
     ]
    },
    {
     "data": {
      "text/html": [
       "<div>\n",
       "<style scoped>\n",
       "    .dataframe tbody tr th:only-of-type {\n",
       "        vertical-align: middle;\n",
       "    }\n",
       "\n",
       "    .dataframe tbody tr th {\n",
       "        vertical-align: top;\n",
       "    }\n",
       "\n",
       "    .dataframe thead th {\n",
       "        text-align: right;\n",
       "    }\n",
       "</style>\n",
       "<table border=\"1\" class=\"dataframe\">\n",
       "  <thead>\n",
       "    <tr style=\"text-align: right;\">\n",
       "      <th></th>\n",
       "      <th>Name</th>\n",
       "      <th>Age</th>\n",
       "    </tr>\n",
       "  </thead>\n",
       "  <tbody>\n",
       "    <tr>\n",
       "      <th>0</th>\n",
       "      <td>Vraj</td>\n",
       "      <td>18</td>\n",
       "    </tr>\n",
       "    <tr>\n",
       "      <th>1</th>\n",
       "      <td>Raj</td>\n",
       "      <td>16</td>\n",
       "    </tr>\n",
       "    <tr>\n",
       "      <th>2</th>\n",
       "      <td>Prateek</td>\n",
       "      <td>28</td>\n",
       "    </tr>\n",
       "    <tr>\n",
       "      <th>3</th>\n",
       "      <td>Ashu</td>\n",
       "      <td>28</td>\n",
       "    </tr>\n",
       "  </tbody>\n",
       "</table>\n",
       "</div>"
      ],
      "text/plain": [
       "      Name  Age\n",
       "0     Vraj   18\n",
       "1      Raj   16\n",
       "2  Prateek   28\n",
       "3     Ashu   28"
      ]
     },
     "execution_count": 7,
     "metadata": {},
     "output_type": "execute_result"
    }
   ],
   "source": [
    "# Pandas Series\n",
    "\n",
    "series = pd.Series([5, 34, 45, 242, 45, 12, 1, 0, 214, 45])\n",
    "\n",
    "df = pd.DataFrame({\n",
    "    'Name': ['Vraj', 'Raj', 'Prateek', 'Ashu'],\n",
    "    'Age': [18, 16, 28, 28]\n",
    "})\n",
    "\n",
    "print(series)\n",
    "df\n"
   ]
  },
  {
   "cell_type": "markdown",
   "id": "7546bf8f-184d-4de4-9553-d93d255475c5",
   "metadata": {},
   "source": [
    "Q5. What are some common functions you can use to manipulate data in a Pandas DataFrame? Can you give an example of when you might use one of these functions?\n",
    "\n",
    "Some common functions in pandas dataframe are\n",
    "\n",
    "1.pd.DataFrame.describe() is used to see the summary of the numerical columns in the dataframe.\n",
    "\n",
    "2.pd.DataFrame.shape gives the dimension of the dataset.\n",
    "\n",
    "3.pd.DataFrame.applymap() takes a function as an argument which mainuplate the data of DataFrame and then returns the DataFrame."
   ]
  },
  {
   "cell_type": "code",
   "execution_count": 8,
   "id": "fe7316b1-f21d-4073-90d3-062aa98d2bbb",
   "metadata": {},
   "outputs": [
    {
     "name": "stdout",
     "output_type": "stream",
     "text": [
      "(4, 2)\n"
     ]
    },
    {
     "data": {
      "text/html": [
       "<div>\n",
       "<style scoped>\n",
       "    .dataframe tbody tr th:only-of-type {\n",
       "        vertical-align: middle;\n",
       "    }\n",
       "\n",
       "    .dataframe tbody tr th {\n",
       "        vertical-align: top;\n",
       "    }\n",
       "\n",
       "    .dataframe thead th {\n",
       "        text-align: right;\n",
       "    }\n",
       "</style>\n",
       "<table border=\"1\" class=\"dataframe\">\n",
       "  <thead>\n",
       "    <tr style=\"text-align: right;\">\n",
       "      <th></th>\n",
       "      <th>Age</th>\n",
       "    </tr>\n",
       "  </thead>\n",
       "  <tbody>\n",
       "    <tr>\n",
       "      <th>count</th>\n",
       "      <td>4.000000</td>\n",
       "    </tr>\n",
       "    <tr>\n",
       "      <th>mean</th>\n",
       "      <td>22.500000</td>\n",
       "    </tr>\n",
       "    <tr>\n",
       "      <th>std</th>\n",
       "      <td>6.403124</td>\n",
       "    </tr>\n",
       "    <tr>\n",
       "      <th>min</th>\n",
       "      <td>16.000000</td>\n",
       "    </tr>\n",
       "    <tr>\n",
       "      <th>25%</th>\n",
       "      <td>17.500000</td>\n",
       "    </tr>\n",
       "    <tr>\n",
       "      <th>50%</th>\n",
       "      <td>23.000000</td>\n",
       "    </tr>\n",
       "    <tr>\n",
       "      <th>75%</th>\n",
       "      <td>28.000000</td>\n",
       "    </tr>\n",
       "    <tr>\n",
       "      <th>max</th>\n",
       "      <td>28.000000</td>\n",
       "    </tr>\n",
       "  </tbody>\n",
       "</table>\n",
       "</div>"
      ],
      "text/plain": [
       "             Age\n",
       "count   4.000000\n",
       "mean   22.500000\n",
       "std     6.403124\n",
       "min    16.000000\n",
       "25%    17.500000\n",
       "50%    23.000000\n",
       "75%    28.000000\n",
       "max    28.000000"
      ]
     },
     "execution_count": 8,
     "metadata": {},
     "output_type": "execute_result"
    }
   ],
   "source": [
    "print(df.shape)\n",
    "df.describe()"
   ]
  },
  {
   "cell_type": "markdown",
   "id": "fae9d469-261e-441b-823c-b208f0a14335",
   "metadata": {},
   "source": [
    "Q6. Which of the following is mutable in nature Series, DataFrame, Panel?\n",
    "\n",
    "Series – 1D labeled homogeneous array, size is immutable.\n",
    "\n",
    "DataFrame – 2D labeled, size-mutable tabular structure with heterogenic columns.\n",
    "\n",
    "Panel – 3D labeled size mutable array."
   ]
  },
  {
   "cell_type": "markdown",
   "id": "ced185af-fd16-42de-bdd5-6a6845cdfc7f",
   "metadata": {},
   "source": [
    "Q7. Create a DataFrame using multiple Series. Explain with an example."
   ]
  },
  {
   "cell_type": "code",
   "execution_count": 9,
   "id": "56d9cf94-3848-474d-add1-32d4cdbb4fef",
   "metadata": {},
   "outputs": [],
   "source": [
    "artist_name = pd.Series([\n",
    "    'Anuv Jain',\n",
    "    'Ashu Shukla',\n",
    "    'Anumita Nandesan',\n",
    "    'Akanksha Sethi'])\n",
    "\n",
    "songs = pd.Series([\n",
    "    'Alag Aasmaan',\n",
    "    'Tumhare Aane Se',\n",
    "    'Khwaab',\n",
    "    'Thoda Sa Teher',\n",
    "])\n",
    "\n",
    "df = pd.DataFrame({\n",
    "    'Artist Name': artist_name,\n",
    "    'Song Name': songs\n",
    "})"
   ]
  },
  {
   "cell_type": "code",
   "execution_count": 10,
   "id": "2daee1e4-2918-47ad-8455-911adb8562d4",
   "metadata": {},
   "outputs": [
    {
     "data": {
      "text/html": [
       "<div>\n",
       "<style scoped>\n",
       "    .dataframe tbody tr th:only-of-type {\n",
       "        vertical-align: middle;\n",
       "    }\n",
       "\n",
       "    .dataframe tbody tr th {\n",
       "        vertical-align: top;\n",
       "    }\n",
       "\n",
       "    .dataframe thead th {\n",
       "        text-align: right;\n",
       "    }\n",
       "</style>\n",
       "<table border=\"1\" class=\"dataframe\">\n",
       "  <thead>\n",
       "    <tr style=\"text-align: right;\">\n",
       "      <th></th>\n",
       "      <th>Artist Name</th>\n",
       "      <th>Song Name</th>\n",
       "    </tr>\n",
       "  </thead>\n",
       "  <tbody>\n",
       "    <tr>\n",
       "      <th>0</th>\n",
       "      <td>Anuv Jain</td>\n",
       "      <td>Alag Aasmaan</td>\n",
       "    </tr>\n",
       "    <tr>\n",
       "      <th>1</th>\n",
       "      <td>Ashu Shukla</td>\n",
       "      <td>Tumhare Aane Se</td>\n",
       "    </tr>\n",
       "    <tr>\n",
       "      <th>2</th>\n",
       "      <td>Anumita Nandesan</td>\n",
       "      <td>Khwaab</td>\n",
       "    </tr>\n",
       "    <tr>\n",
       "      <th>3</th>\n",
       "      <td>Akanksha Sethi</td>\n",
       "      <td>Thoda Sa Teher</td>\n",
       "    </tr>\n",
       "  </tbody>\n",
       "</table>\n",
       "</div>"
      ],
      "text/plain": [
       "        Artist Name        Song Name\n",
       "0         Anuv Jain     Alag Aasmaan\n",
       "1       Ashu Shukla  Tumhare Aane Se\n",
       "2  Anumita Nandesan           Khwaab\n",
       "3    Akanksha Sethi   Thoda Sa Teher"
      ]
     },
     "execution_count": 10,
     "metadata": {},
     "output_type": "execute_result"
    }
   ],
   "source": [
    "df"
   ]
  },
  {
   "cell_type": "code",
   "execution_count": null,
   "id": "32ef30b2-c361-487c-8a8a-e997877f2769",
   "metadata": {},
   "outputs": [],
   "source": []
  }
 ],
 "metadata": {
  "kernelspec": {
   "display_name": "Python 3 (ipykernel)",
   "language": "python",
   "name": "python3"
  },
  "language_info": {
   "codemirror_mode": {
    "name": "ipython",
    "version": 3
   },
   "file_extension": ".py",
   "mimetype": "text/x-python",
   "name": "python",
   "nbconvert_exporter": "python",
   "pygments_lexer": "ipython3",
   "version": "3.10.8"
  }
 },
 "nbformat": 4,
 "nbformat_minor": 5
}
