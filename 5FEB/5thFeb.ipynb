{
 "cells": [
  {
   "cell_type": "markdown",
   "id": "de018e4b-5e53-4cf1-a5d6-1d485dda34d9",
   "metadata": {},
   "source": [
    "Q1. Explain Class and Object with respect to Object-Oriented Programming. Give a suitable example."
   ]
  },
  {
   "cell_type": "markdown",
   "id": "b1c48519-4ccc-437c-b1ce-6513ab0616dc",
   "metadata": {},
   "source": [
    "A :- In Object-Oriented Programming (OOP), a class is a blueprint or a template that defines the attributes (variables) and behaviors (methods) of objects. An object is an instance of a class, and it has its own set of attributes and can perform behaviors based on the methods defined in the class."
   ]
  },
  {
   "cell_type": "code",
   "execution_count": 1,
   "id": "03eff902-b995-4a93-8598-bf7d44b0bbc1",
   "metadata": {},
   "outputs": [],
   "source": [
    "class Person:\n",
    "    def __init__(self, name, age, gender):\n",
    "        self.name = name\n",
    "        self.age = age\n",
    "        self.gender = gender\n",
    "        \n",
    "    def introduce(self):\n",
    "        print(f\"Hi, my name is {self.name}, I am {self.age} years old, and I am {self.gender}.\")\n",
    "        "
   ]
  },
  {
   "cell_type": "code",
   "execution_count": 2,
   "id": "a2078985-ff19-4543-82e6-3b9697d472f3",
   "metadata": {},
   "outputs": [],
   "source": [
    "person1 = Person(\"vraj\", 25, \"Male\")"
   ]
  },
  {
   "cell_type": "code",
   "execution_count": 3,
   "id": "95ce22db-1202-45ef-a47e-6b4b03f6c014",
   "metadata": {},
   "outputs": [
    {
     "name": "stdout",
     "output_type": "stream",
     "text": [
      "Hi, my name is vraj, I am 25 years old, and I am Male.\n"
     ]
    }
   ],
   "source": [
    "person1.introduce()"
   ]
  },
  {
   "cell_type": "markdown",
   "id": "4ca12299-4dde-47c1-9efd-d6df909555b3",
   "metadata": {},
   "source": [
    "Q2. Name the four pillars of OOPs."
   ]
  },
  {
   "cell_type": "markdown",
   "id": "14ea97c7-a773-47d8-ba71-a40d1fbb55bb",
   "metadata": {},
   "source": [
    "Encapsulation, Inheritance, Polymorphism, Abstraction"
   ]
  },
  {
   "cell_type": "markdown",
   "id": "5a1e0425-3eb4-48be-9633-fc53d6bb105d",
   "metadata": {},
   "source": [
    "Q3. Explain why the __init__() function is used. Give a suitable example."
   ]
  },
  {
   "cell_type": "markdown",
   "id": "4c40d7eb-98b9-492d-bc2b-36bc65fbd90a",
   "metadata": {},
   "source": [
    "The __init__() function is a special method in Python classes and it is used to initialize the instance variables of a class when an object of that class is created. It is also called a constructor method. The __init__() method is automatically called when an object of the class is created."
   ]
  },
  {
   "cell_type": "code",
   "execution_count": 6,
   "id": "d2b8fbc8-8405-44b8-b5e8-b79aa7eb4dc6",
   "metadata": {},
   "outputs": [],
   "source": [
    "class Rectangle:\n",
    "    def __init__(self, width, height):\n",
    "        self.width = width\n",
    "        self.height = height"
   ]
  },
  {
   "cell_type": "code",
   "execution_count": 7,
   "id": "a1afda2c-a398-4204-bf43-b20a77e9cf6d",
   "metadata": {},
   "outputs": [
    {
     "name": "stdout",
     "output_type": "stream",
     "text": [
      "Width: 10\n",
      "Height: 5\n"
     ]
    }
   ],
   "source": [
    "r = Rectangle(10, 5)  # create an object of Rectangle class with width 10 and height 5\n",
    "print(\"Width:\", r.width)  \n",
    "print(\"Height:\", r.height)  "
   ]
  },
  {
   "cell_type": "markdown",
   "id": "55a0813a-c8c8-43e3-ac53-cc0b9c36313e",
   "metadata": {},
   "source": [
    "Q4. Why self is used in OOPs?"
   ]
  },
  {
   "cell_type": "markdown",
   "id": "0c2d21b4-b74d-4b1b-b842-f13ddff9aa47",
   "metadata": {},
   "source": [
    "In Python, self is used as a reference to the current instance of a class. It is a convention in Python to use self as the first parameter of instance methods in a class. When a method is called on an instance of a class, the instance is automatically passed as the first argument to the method.\n",
    "\n",
    "Using self in object-oriented programming allows the instance of the class to access its own data members and methods. \n",
    "Without self, it would not be possible to distinguish between the data members and methods of different instances of the same class."
   ]
  },
  {
   "cell_type": "markdown",
   "id": "9908c57d-cef9-4b64-a730-f1500b4eb636",
   "metadata": {},
   "source": [
    "Q5. What is inheritance? Give an example for each type of inheritance."
   ]
  },
  {
   "cell_type": "markdown",
   "id": "6d3093d7-6998-4a1f-b5ad-4ca0dbcc3965",
   "metadata": {},
   "source": [
    "Inheritance is a concept in object-oriented programming where a class (child/subclass) is derived from another class (parent/superclass), \n",
    "and it inherits all the properties and methods of the parent class.\n",
    "\n",
    "There are mainly four types of inheritance:\n",
    "\n",
    "1. Single Inheritance: In this type of inheritance, a subclass extends a single superclass. For example:"
   ]
  },
  {
   "cell_type": "code",
   "execution_count": 8,
   "id": "6f02d2fb-7a60-4f2a-b7f7-84324c4fdb78",
   "metadata": {},
   "outputs": [],
   "source": [
    "class Animal:\n",
    "    def __init__(self, name):\n",
    "        self.name = name\n",
    "\n",
    "    def make_sound(self):\n",
    "        print(\"Some sound\")\n",
    "\n",
    "class Dog(Animal):\n",
    "    def __init__(self, name, breed):\n",
    "        super().__init__(name)\n",
    "        self.breed = breed\n",
    "\n",
    "    def make_sound(self):\n",
    "        print(\"Bark\")"
   ]
  },
  {
   "cell_type": "markdown",
   "id": "f824d7b5-a6b2-4717-b9c3-ed13659bc0b6",
   "metadata": {},
   "source": [
    "2. Multiple Inheritance: In this type of inheritance, a subclass extends multiple superclasses. For example:"
   ]
  },
  {
   "cell_type": "code",
   "execution_count": 9,
   "id": "9549a886-6bcb-4067-b2fc-4c5b271e4f39",
   "metadata": {},
   "outputs": [],
   "source": [
    "class Vehicle:\n",
    "    def __init__(self, name):\n",
    "        self.name = name\n",
    "\n",
    "    def start(self):\n",
    "        print(\"Vehicle started\")\n",
    "\n",
    "class Flying:\n",
    "    def fly(self):\n",
    "        print(\"Flying\")\n",
    "\n",
    "class Car(Vehicle, Flying):\n",
    "    def __init__(self, name, model):\n",
    "        super().__init__(name)\n",
    "        self.model = model"
   ]
  },
  {
   "cell_type": "markdown",
   "id": "d25ae67d-5024-4c91-8286-e61534d94366",
   "metadata": {},
   "source": [
    "3. Multilevel Inheritance: In this type of inheritance, a subclass extends a superclass, which in turn extends another superclass, and so on. For example:"
   ]
  },
  {
   "cell_type": "code",
   "execution_count": 10,
   "id": "56489265-6e21-4788-a6e5-b7ae4a3f85c9",
   "metadata": {},
   "outputs": [],
   "source": [
    "class Animal:\n",
    "    def __init__(self, name):\n",
    "        self.name = name\n",
    "\n",
    "class Dog(Animal):\n",
    "    def __init__(self, name, breed):\n",
    "        super().__init__(name)\n",
    "        self.breed = breed\n",
    "\n",
    "class BullDog(Dog):\n",
    "    def __init__(self, name, breed, color):\n",
    "        super().__init__(name, breed)\n",
    "        self.color = color"
   ]
  },
  {
   "cell_type": "markdown",
   "id": "bc7e7d75-9144-4730-ad9d-9e9bce88fce6",
   "metadata": {},
   "source": [
    "4. Hierarchical Inheritance: In this type of inheritance, multiple subclasses extend a single superclass. For example:"
   ]
  },
  {
   "cell_type": "code",
   "execution_count": 11,
   "id": "bf537b16-41b3-4da4-a1ab-5497902835d8",
   "metadata": {},
   "outputs": [],
   "source": [
    "class Shape:\n",
    "    def __init__(self, x, y):\n",
    "        self.x = x\n",
    "        self.y = y\n",
    "\n",
    "    def area(self):\n",
    "        pass\n",
    "\n",
    "class Circle(Shape):\n",
    "    def __init__(self, x, y, r):\n",
    "        super().__init__(x, y)\n",
    "        self.r = r\n",
    "\n",
    "    def area(self):\n",
    "        return 3.14 * self.r ** 2\n",
    "\n",
    "class Rectangle(Shape):\n",
    "    def __init__(self, x, y, w, h):\n",
    "        super().__init__(x, y)\n",
    "        self.width = w\n",
    "        self.height = h\n",
    "\n",
    "    def area(self):\n",
    "        return self.width * self.height"
   ]
  },
  {
   "cell_type": "code",
   "execution_count": null,
   "id": "81c8b876-05b5-4d6a-b0c7-a112cf8a2152",
   "metadata": {},
   "outputs": [],
   "source": []
  }
 ],
 "metadata": {
  "kernelspec": {
   "display_name": "Python 3 (ipykernel)",
   "language": "python",
   "name": "python3"
  },
  "language_info": {
   "codemirror_mode": {
    "name": "ipython",
    "version": 3
   },
   "file_extension": ".py",
   "mimetype": "text/x-python",
   "name": "python",
   "nbconvert_exporter": "python",
   "pygments_lexer": "ipython3",
   "version": "3.10.8"
  }
 },
 "nbformat": 4,
 "nbformat_minor": 5
}
