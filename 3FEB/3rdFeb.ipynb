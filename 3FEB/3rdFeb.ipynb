{
 "cells": [
  {
   "cell_type": "markdown",
   "id": "941ac0e7-f9e0-47d3-a252-03575d6973db",
   "metadata": {},
   "source": [
    "Q1:- Which keyword is used to create a function? Create a function to return a list of odd numbers in the\n",
    "range of 1 to 25.\n",
    "\n",
    "A:- Def leyword is used to create a function."
   ]
  },
  {
   "cell_type": "code",
   "execution_count": 3,
   "id": "a6ae9c83-ef2a-4f77-8567-91f1a1c32ea3",
   "metadata": {},
   "outputs": [],
   "source": [
    "def odd_numbers():\n",
    "    return [i for i in range(1, 26) if i % 2 != 0]"
   ]
  },
  {
   "cell_type": "code",
   "execution_count": 2,
   "id": "c076de4e-0a52-47b4-b0a1-f1186dfd46f8",
   "metadata": {},
   "outputs": [
    {
     "data": {
      "text/plain": [
       "[1, 3, 5, 7, 9, 11, 13, 15, 17, 19, 21, 23, 25]"
      ]
     },
     "execution_count": 2,
     "metadata": {},
     "output_type": "execute_result"
    }
   ],
   "source": [
    "odd_numbers()"
   ]
  },
  {
   "cell_type": "markdown",
   "id": "e96e53c5-f282-4079-9d6a-e2dab70cea79",
   "metadata": {},
   "source": [
    "Q2:- Why *args and **kwargs is used in some functions? Create a function each for *args and **kwargs\n",
    "to demonstrate their use.\n",
    "\n",
    "A:- The *args and **kwargs are special syntax in Python used in function definitions that allow the function to accept any number of arguments or keyword arguments, respectively. \n",
    "\n",
    "*args is used to pass a variable number of non-keyword arguments to a function. The arguments are passed as a tuple and the parameter name *args is used to represent this tuple of arguments. This is useful when the number of arguments that need to be passed to the function is not known in advance.\n",
    "\n",
    "**kwargs is used to pass a variable number of keyword arguments to a function. The arguments are passed as a dictionary and the parameter name **kwargs is used to represent this dictionary of arguments. This is useful when the number of keyword arguments that need to be passed to the function is not known in advance."
   ]
  },
  {
   "cell_type": "code",
   "execution_count": 4,
   "id": "7b6caacc-e886-49dc-8c3e-b4b3156a88b2",
   "metadata": {},
   "outputs": [],
   "source": [
    "def multiply_numbers(*args):\n",
    "    result = 1\n",
    "    for num in args:\n",
    "        result *= num\n",
    "    return result"
   ]
  },
  {
   "cell_type": "code",
   "execution_count": 5,
   "id": "04fffe6c-c402-4d8a-9e9f-30aa19dfa8c3",
   "metadata": {},
   "outputs": [
    {
     "name": "stdout",
     "output_type": "stream",
     "text": [
      "24\n"
     ]
    }
   ],
   "source": [
    "print(multiply_numbers(2, 3, 4))"
   ]
  },
  {
   "cell_type": "code",
   "execution_count": 6,
   "id": "e9c29477-8a4d-479c-85f3-7d5aed972504",
   "metadata": {},
   "outputs": [],
   "source": [
    "def print_details(**kwargs):\n",
    "    for key, value in kwargs.items():\n",
    "        print(key + \" : \" + value)"
   ]
  },
  {
   "cell_type": "code",
   "execution_count": 8,
   "id": "fe7acf32-b4c7-4325-95af-7c286a30fdd1",
   "metadata": {},
   "outputs": [
    {
     "name": "stdout",
     "output_type": "stream",
     "text": [
      "name : Vraj\n",
      "age : 20\n",
      "city : Gujarat\n"
     ]
    }
   ],
   "source": [
    "print_details(name=\"Vraj\", age=\"20\", city=\"Gujarat\")"
   ]
  },
  {
   "cell_type": "markdown",
   "id": "8697ff8f-3863-44d6-894a-2ba96521a8a9",
   "metadata": {},
   "source": [
    "Q3:- What is an iterator in python? Name the method used to initialise the iterator object and the method\n",
    "used for iteration. Use these methods to print the first five elements of the given list [2, 4, 6, 8, 10, 12, 14,\n",
    "16, 18, 20].\n",
    "\n",
    "A:- In Python, an iterator is an object that can be iterated upon, meaning that it can be used in a loop. It returns data one at a time, which can be helpful when working with large amounts of data, as it reduces memory usage.\n",
    "To create an iterator object, we use the iter() method, which takes an iterable object as an argument and returns an iterator object. The next() method is used for iteration, which returns the next item in the iterator."
   ]
  },
  {
   "cell_type": "code",
   "execution_count": 9,
   "id": "815f5aff-8f1b-4103-94e1-9aa0845d0267",
   "metadata": {},
   "outputs": [
    {
     "name": "stdout",
     "output_type": "stream",
     "text": [
      "2\n",
      "4\n",
      "6\n",
      "8\n",
      "10\n"
     ]
    }
   ],
   "source": [
    "my_list = [2, 4, 6, 8, 10, 12, 14, 16, 18, 20]\n",
    "\n",
    "# create an iterator object\n",
    "my_iterator = iter(my_list)\n",
    "\n",
    "# iterate through the first five elements\n",
    "for i in range(5):\n",
    "    print(next(my_iterator))"
   ]
  },
  {
   "cell_type": "markdown",
   "id": "c6a44df6-76b4-4e61-a74b-3b7ab828bc24",
   "metadata": {},
   "source": [
    "Q4:- What is a generator function in python? Why yield keyword is used? Give an example of a generator\n",
    "function.\n",
    "\n",
    "A:- A generator function in Python is a special type of function that allows you to iterate over a sequence of values without the need to create and store the entire sequence in memory. Instead of returning a value, a generator function yields a value to the calling function using the yield keyword. This means that the next value in the sequence is only generated when it is needed, making generator functions much more memory-efficient than regular functions.\n",
    "\n",
    "The yield keyword is used in a generator function to temporarily suspend the execution of the function and return a value to the calling function. When the function is called again, it resumes execution from where it left off, generating the next value in the sequence."
   ]
  },
  {
   "cell_type": "code",
   "execution_count": 10,
   "id": "27855902-b29e-4a41-b2ca-338131767aa4",
   "metadata": {},
   "outputs": [
    {
     "name": "stdout",
     "output_type": "stream",
     "text": [
      "0\n",
      "2\n",
      "4\n",
      "6\n",
      "8\n",
      "10\n",
      "12\n",
      "14\n",
      "16\n",
      "18\n"
     ]
    }
   ],
   "source": [
    "def generate_even_numbers(limit):\n",
    "    for i in range(0, limit, 2):\n",
    "        yield i\n",
    "\n",
    "# Call the generator function to print the first 10 even numbers\n",
    "for num in generate_even_numbers(20):\n",
    "    print(num)\n"
   ]
  },
  {
   "cell_type": "markdown",
   "id": "395a3fa8-2d92-40f1-b4f9-5340bb044057",
   "metadata": {},
   "source": [
    "Q5:- Create a generator function for prime numbers less than 1000. Use the next() method to print the\n",
    "first 20 prime numbers."
   ]
  },
  {
   "cell_type": "code",
   "execution_count": 11,
   "id": "dc36c35f-2ea3-4ac6-acbb-70c477a174dd",
   "metadata": {},
   "outputs": [],
   "source": [
    "def primes():\n",
    "    # Yield the first prime number\n",
    "    yield 2\n",
    "    \n",
    "    # Start checking for prime numbers from 3\n",
    "    n = 3\n",
    "    \n",
    "    # Loop until 1000\n",
    "    while n < 1000:\n",
    "        # Check if n is a prime number\n",
    "        is_prime = True\n",
    "        for i in range(2, n):\n",
    "            if n % i == 0:\n",
    "                is_prime = False\n",
    "                break\n",
    "        \n",
    "        # Yield the prime number if it is prime\n",
    "        if is_prime:\n",
    "            yield n\n",
    "        \n",
    "        # Move on to the next number\n",
    "        n += 1"
   ]
  },
  {
   "cell_type": "code",
   "execution_count": 12,
   "id": "fd037191-ceb7-4350-a7bd-a981d069efbe",
   "metadata": {},
   "outputs": [
    {
     "name": "stdout",
     "output_type": "stream",
     "text": [
      "2\n",
      "3\n",
      "5\n",
      "7\n",
      "11\n",
      "13\n",
      "17\n",
      "19\n",
      "23\n",
      "29\n",
      "31\n",
      "37\n",
      "41\n",
      "43\n",
      "47\n",
      "53\n",
      "59\n",
      "61\n",
      "67\n",
      "71\n"
     ]
    }
   ],
   "source": [
    "# Create the prime number generator\n",
    "prime_generator = primes()\n",
    "\n",
    "# Print the first 20 prime numbers\n",
    "for i in range(20):\n",
    "    print(next(prime_generator))"
   ]
  },
  {
   "cell_type": "markdown",
   "id": "f3f45ef4-3af5-4f57-a271-039e6a9b671d",
   "metadata": {},
   "source": [
    "Q6:- Write a python program to print the first 10 Fibonacci numbers using a while loop."
   ]
  },
  {
   "cell_type": "code",
   "execution_count": 13,
   "id": "8d1f9571-9e77-4fde-ae41-dbc5604be05a",
   "metadata": {},
   "outputs": [
    {
     "name": "stdout",
     "output_type": "stream",
     "text": [
      "0\n",
      "1\n",
      "1\n",
      "2\n",
      "3\n",
      "5\n",
      "8\n",
      "13\n",
      "21\n",
      "34\n"
     ]
    }
   ],
   "source": [
    "a = 0\n",
    "b = 1\n",
    "count = 0\n",
    "\n",
    "while count < 10:\n",
    "    print(a)\n",
    "    c = a + b\n",
    "    a = b\n",
    "    b = c\n",
    "    count += 1"
   ]
  },
  {
   "cell_type": "markdown",
   "id": "edd02705-7788-4a4c-9abb-b12f64d82c1d",
   "metadata": {},
   "source": [
    "Q7:- Write a List Comprehension to iterate through the given string: ‘pwskills’.\n",
    "Expected output: ['p', 'w', 's', 'k', 'i', 'l', 'l', 's']"
   ]
  },
  {
   "cell_type": "code",
   "execution_count": 14,
   "id": "628e00bd-f3dc-494a-859e-8954b35c73be",
   "metadata": {},
   "outputs": [
    {
     "name": "stdout",
     "output_type": "stream",
     "text": [
      "['p', 'w', 's', 'k', 'i', 'l', 'l', 's']\n"
     ]
    }
   ],
   "source": [
    "string = 'pwskills'\n",
    "output = [char for char in string if char in 'pwskills']\n",
    "print(output)"
   ]
  },
  {
   "cell_type": "markdown",
   "id": "cd468f72-e101-4299-bbb5-59202321550e",
   "metadata": {},
   "source": [
    "Q8:- Write a python program to check whether a given number is Palindrome or not using a while loop."
   ]
  },
  {
   "cell_type": "code",
   "execution_count": 16,
   "id": "dfeec826-ce36-4fbf-a1a2-68223756f31c",
   "metadata": {},
   "outputs": [
    {
     "name": "stdin",
     "output_type": "stream",
     "text": [
      "Enter a number:  22\n"
     ]
    },
    {
     "name": "stdout",
     "output_type": "stream",
     "text": [
      "22 is a palindrome number\n"
     ]
    }
   ],
   "source": [
    "# Function to check if a number is Palindrome\n",
    "def is_palindrome(num):\n",
    "    temp = num\n",
    "    rev = 0\n",
    "    while temp > 0:\n",
    "        rev = (rev * 10) + (temp % 10)\n",
    "        temp = temp // 10\n",
    "    if num == rev:\n",
    "        return True\n",
    "    else:\n",
    "        return False\n",
    "\n",
    "# Taking user input\n",
    "num = int(input(\"Enter a number: \"))\n",
    "\n",
    "# Checking if the number is palindrome or not\n",
    "if is_palindrome(num):\n",
    "    print(num, \"is a palindrome number\")\n",
    "else:\n",
    "    print(num, \"is not a palindrome number\")"
   ]
  },
  {
   "cell_type": "markdown",
   "id": "63fd664c-f9da-47d9-8e3b-966e657c273b",
   "metadata": {},
   "source": [
    "Q9:- Write a code to print odd numbers from 1 to 100 using list comprehension."
   ]
  },
  {
   "cell_type": "code",
   "execution_count": 17,
   "id": "bce4943a-f675-45a1-a00b-3c8e02df2c3a",
   "metadata": {},
   "outputs": [
    {
     "name": "stdout",
     "output_type": "stream",
     "text": [
      "[1, 3, 5, 7, 9, 11, 13, 15, 17, 19, 21, 23, 25, 27, 29, 31, 33, 35, 37, 39, 41, 43, 45, 47, 49, 51, 53, 55, 57, 59, 61, 63, 65, 67, 69, 71, 73, 75, 77, 79, 81, 83, 85, 87, 89, 91, 93, 95, 97, 99]\n"
     ]
    }
   ],
   "source": [
    "odd_numbers = [num for num in range(1, 101) if num % 2 != 0]\n",
    "print(odd_numbers)"
   ]
  },
  {
   "cell_type": "code",
   "execution_count": null,
   "id": "59316da5-61ba-4a27-a193-a5676ad9268d",
   "metadata": {},
   "outputs": [],
   "source": []
  }
 ],
 "metadata": {
  "kernelspec": {
   "display_name": "Python 3 (ipykernel)",
   "language": "python",
   "name": "python3"
  },
  "language_info": {
   "codemirror_mode": {
    "name": "ipython",
    "version": 3
   },
   "file_extension": ".py",
   "mimetype": "text/x-python",
   "name": "python",
   "nbconvert_exporter": "python",
   "pygments_lexer": "ipython3",
   "version": "3.10.8"
  }
 },
 "nbformat": 4,
 "nbformat_minor": 5
}
