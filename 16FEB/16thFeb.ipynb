{
 "cells": [
  {
   "cell_type": "markdown",
   "id": "e595e121-62d9-4b67-991b-6f9dd5bcde98",
   "metadata": {},
   "source": [
    "Q1. What is a database? Differentiate between SQL and NoSQL databases.\n",
    "\n",
    "Database is used to store and organise data in a server or a local system.\n",
    "\n",
    "SQL databses are relational and uses tables to store data while NoSQL are non-relational and use flexible data models like key value and graph to store data."
   ]
  },
  {
   "cell_type": "markdown",
   "id": "a96aacc9-e19b-4c2a-8e09-eb17c159ed2c",
   "metadata": {},
   "source": [
    "Q2. What is DDL? Explain why CREATE, DROP, ALTER, and TRUNCATE are used with an example.\n",
    "\n",
    "DDL stands for Data Definition Language which is used to define and manage the structure of a database and their tables.\n",
    "\n",
    "1.Create statement is used to create databases or tables.\n",
    "\n",
    "CREATE TABLE employees (\n",
    "    \n",
    "    id INT PRIMARY KEY,\n",
    "    \n",
    "    name VARCHAR(50),\n",
    "    \n",
    "    salary DECIMAL(10,2)\n",
    "    \n",
    ");\n",
    "\n",
    "2.ALTER statement is used to modify the pre-defined tables schemes like adding new columns in table.\n",
    "\n",
    "ALTER TABLE employees ADD COLUMN age INT;\n",
    "\n",
    "3.DROP statement is used to remove the existing database or tables.\n",
    "\n",
    "DROP TABLE employees;\n",
    "\n",
    "4. TRUNCATE statement is used to remove all the data from an existing table, while keeping the table structure/schema as it is.\n",
    "\n",
    "TRUNCATE TABLE employees;"
   ]
  },
  {
   "cell_type": "markdown",
   "id": "57fb93af-c713-4a5a-a4a3-c75778e99948",
   "metadata": {},
   "source": [
    "Q3. What is DML? Explain INSERT, UPDATE, and DELETE with an example.\n",
    "\n",
    "DML stands for Data Manupulation Language which is used to manuplate like inserting, deleting, upating and selecting the data present in the databases.\n",
    "\n",
    "1.INSERT statement is used to add a data/row in a table by providing the values of tables columns.\n",
    "\n",
    "INSERT INTO employees VALUES (001, 'Vraj Patel', 30000.00)\n",
    "\n",
    "2.UPDATE statement is used to modify the existing row/data in a table.\n",
    "\n",
    "UPDATE employees SET 40000.00 WHERE name = 'Vraj Patel';\n",
    "\n",
    "3.DELETE statement is used to remove individual or a group of rows from a table.\n",
    "\n",
    "DELETE FROM employees WHERE salary > 30000.00;"
   ]
  },
  {
   "cell_type": "markdown",
   "id": "7575cd00-2cb5-4ee3-91a8-cec887fed6a0",
   "metadata": {},
   "source": [
    "Q4. What is DQL? Explain SELECT with an example.\n",
    "\n",
    "DQL stands for Data Query Language which is used to select or retrive data from databases.\n",
    "\n",
    "1.SELECT is used to retrive data from tables.\n",
    "\n",
    "-- Used to select all the data from the column\n",
    "\n",
    "SELECT * FROM employees;\n",
    "\n",
    "-- Used to select data on a condition\n",
    "\n",
    "SELECT name, salary FROM employees WHERE salary > 40000;"
   ]
  },
  {
   "cell_type": "markdown",
   "id": "af1e92fa-8406-4d9e-8455-428d4400fe80",
   "metadata": {},
   "source": [
    "Q5. Explain Primary Key and Foreign Key.\n",
    "\n",
    "Primary Key is a special key used to identify the data of a database uniquely.\n",
    "\n",
    "Foreing Key is a key used to define a relation between two tables."
   ]
  },
  {
   "cell_type": "markdown",
   "id": "98b23412-e046-4f47-abf9-057397f32d22",
   "metadata": {},
   "source": [
    "Q6. Write a python code to connect MySQL to python. Explain the cursor() and execute() method."
   ]
  },
  {
   "cell_type": "code",
   "execution_count": null,
   "id": "f4a06131-ef6e-453e-b634-0a0f059f61e4",
   "metadata": {},
   "outputs": [],
   "source": [
    "import mysql.connector\n",
    "\n",
    "# Createing a connection with mysql database\n",
    "db = mysql.connector.connect(\n",
    "  host=\"localhost\",\n",
    "  user=\"username\",\n",
    "  password=\"password\",\n",
    "  database=\"database_name\"\n",
    ")\n",
    "\n",
    "# Creating a cursor object\n",
    "cursor = db.cursor()\n",
    "\n",
    "# Executing a SELECT statement\n",
    "cursor.execute(\"SELECT * FROM employees\")\n",
    "\n",
    "for row in cursor.fetchall():\n",
    "    print(row)\n",
    "\n",
    "# Closing the database and cursor\n",
    "cursor.close()\n",
    "db.close()"
   ]
  },
  {
   "cell_type": "markdown",
   "id": "07ccf30f-6e95-4047-9a11-7a6637e9564f",
   "metadata": {},
   "source": [
    "Here,\n",
    "\n",
    "    cursor() object is used to execute queries and retrieve results from the database.\n",
    "\n",
    "    execute() method of the cursor object is used to execute SQL statements and retrieve the results. It returns the data of affected rows else it returns None if no rows were affected."
   ]
  },
  {
   "cell_type": "markdown",
   "id": "b4b88f1c-0ed4-42c5-ae4e-69d6b6936c0d",
   "metadata": {},
   "source": [
    "Q7. Give the order of execution of SQL clauses in an SQL query.\n",
    "\n",
    "SELECT department_name, COUNT(*) AS num_employees\n",
    "\n",
    "FROM employees\n",
    "\n",
    "JOIN departments ON employees.department_id = departments.department_id\n",
    "\n",
    "WHERE salary > 50000\n",
    "\n",
    "GROUP BY department_name\n",
    "\n",
    "HAVING COUNT(*) > 10\n",
    "\n",
    "ORDER BY num_employees DESC\n",
    "\n",
    "LIMIT 10\n",
    "\n",
    "\n",
    "\n",
    "\n",
    "\n",
    "In this query, the clauses are executed in the following order:\n",
    "\n",
    "FROM clause: specifies the employees and departments tables that will be joined\n",
    "\n",
    "JOIN clause: joins the two tables on the department_id column\n",
    "\n",
    "WHERE clause: filters the rows based on the salary column being greater than 50000\n",
    "\n",
    "GROUP BY clause: groups the rows by department_name\n",
    "\n",
    "HAVING clause: filters the groups based on the count of employees being greater than 10\n",
    "\n",
    "SELECT clause: selects the department_name column and a calculated column num_employees\n",
    "\n",
    "ORDER BY clause: sorts the result set based on the num_employees column in descending order\n",
    "\n",
    "LIMIT clause: limits the result set to 10 rows"
   ]
  },
  {
   "cell_type": "code",
   "execution_count": null,
   "id": "bf4e5965-2d96-480b-9c2c-7ddc4b76735f",
   "metadata": {},
   "outputs": [],
   "source": []
  }
 ],
 "metadata": {
  "kernelspec": {
   "display_name": "Python 3 (ipykernel)",
   "language": "python",
   "name": "python3"
  },
  "language_info": {
   "codemirror_mode": {
    "name": "ipython",
    "version": 3
   },
   "file_extension": ".py",
   "mimetype": "text/x-python",
   "name": "python",
   "nbconvert_exporter": "python",
   "pygments_lexer": "ipython3",
   "version": "3.10.8"
  }
 },
 "nbformat": 4,
 "nbformat_minor": 5
}
