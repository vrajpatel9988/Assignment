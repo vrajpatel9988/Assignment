{
 "cells": [
  {
   "cell_type": "markdown",
   "id": "5db57962-6263-45a0-85b6-257475b31b70",
   "metadata": {},
   "source": [
    "1. Who developed Python Programming Language?\n",
    "\n",
    "A. Python was created by Guido van Rossum and first released on February 20, 1991."
   ]
  },
  {
   "cell_type": "markdown",
   "id": "3c5c6b45-a17a-4834-89fe-9035ec770ec6",
   "metadata": {},
   "source": [
    "2. Which type of Programming does Python support?\n",
    "\n",
    "A. Python is an interpreted programming language, supporting object-oriented, structured, and functional programming."
   ]
  },
  {
   "cell_type": "markdown",
   "id": "a3c58e0f-599a-455a-bab1-be7235c3def5",
   "metadata": {},
   "source": [
    "3. Is Python case sensitive when dealing with identifiers?\n",
    "\n",
    "A. Yes, Python is a case-sensitive language."
   ]
  },
  {
   "cell_type": "markdown",
   "id": "1380f2e3-c410-44d1-bc34-7b665dcfd93b",
   "metadata": {},
   "source": [
    "4. What is the correct extension of the Python file?\n",
    "\n",
    "A. .py"
   ]
  },
  {
   "cell_type": "markdown",
   "id": "8f15fb1f-6b74-4238-bb68-0ad26f5d3d51",
   "metadata": {},
   "source": [
    "5. Is Python code compiled or interpreted?\n",
    "\n",
    "A. Python is an interpreted language."
   ]
  },
  {
   "cell_type": "markdown",
   "id": "3565971f-1eef-4d8a-af10-bcd894603a9d",
   "metadata": {},
   "source": [
    "6. Name a few blocks of code used to define in Python language?\n",
    "\n",
    "A. \n",
    "Example 1: Program for Checking names using Python\n",
    "\n",
    "name = 'Vraj'\n",
    "    \n",
    "if name == 'Vraj':\n",
    "    print('Correct Name!!')\n",
    "else:\n",
    "\tprint('InCorrect Name:(')\n",
    "print('HI')\n",
    "\n",
    "Example 2: Showcasing use of Indentation in Python using loop\n",
    "\n",
    "i = 1\n",
    "while(i<=4):\n",
    "     print(i)\n",
    "     i = i + 1\n"
   ]
  },
  {
   "cell_type": "markdown",
   "id": "de1b86b9-89da-4e30-8b47-b8ed6e18aea5",
   "metadata": {},
   "source": [
    "7. State a character used to give single-line comments in Python?\n",
    "\n",
    "A. (#) "
   ]
  },
  {
   "cell_type": "markdown",
   "id": "5f358828-d646-4e99-bbd3-417a774f23bd",
   "metadata": {},
   "source": [
    "8. Mention functions which can help us to find the version of python that we are currently working on?\n",
    "\n",
    "A. \n",
    "Using sys.version method\n",
    "Using python_version() function\n",
    "Using Python -V command"
   ]
  },
  {
   "cell_type": "markdown",
   "id": "5943b49a-8f5b-4e67-a28c-043b40e3ffcf",
   "metadata": {},
   "source": [
    "9. Python supports the creation of anonymous functions at runtime, using a construct called_____\n",
    "\n",
    "A. lambda"
   ]
  },
  {
   "cell_type": "markdown",
   "id": "1a9f8497-44a0-49fe-8ac3-4dceb2d38df3",
   "metadata": {},
   "source": [
    "10. What does pip stand for python?\n",
    "\n",
    "A. PIP is a recursive acronym for “Preferred Installer Program” or PIP Installs Packages. It is a command-line utility that installs, reinstalls, or uninstalls PyPI packages with one simple command: pip. "
   ]
  },
  {
   "cell_type": "markdown",
   "id": "b5ac96de-74d9-42fe-a860-b5b283bcf3b7",
   "metadata": {},
   "source": [
    "11. Mention a few built-in functions in python?\n",
    "\n",
    "A. \n",
    "bool() == Returns the boolean value of the specified object\n",
    "complex()  == Returns a complex number\n",
    "dict()  == Returns a dictionary (Array)\n",
    "float()  == Returns a floating point number\n",
    "len()   ==  Returns the length of an object\n",
    "print()  == Prints to the standard output device\n",
    "slice()\t== Returns a slice object\n",
    "type()\t== Returns the type of an object"
   ]
  },
  {
   "cell_type": "markdown",
   "id": "3ac0c7d6-e285-43bf-a921-fb99a5475df7",
   "metadata": {},
   "source": [
    "12. What is the maximum possible length of an identifier in Python?\n",
    "\n",
    "A.  79 characters"
   ]
  },
  {
   "cell_type": "markdown",
   "id": "1786fb4f-823b-444a-bc50-c63b632113e3",
   "metadata": {},
   "source": [
    "13. What are the benefits of using Python?\n",
    "\n",
    "A.\n",
    "Advantages: \n",
    "Presence of third-party modules ,\n",
    "Extensive support libraries(NumPy for numerical calculations, Pandas for data analytics, etc.) ,\n",
    "Open source and large active community base ,\n",
    "Versatile, Easy to read, learn and write,\n",
    "User-friendly data structures ,\n",
    "High-level language ,\n",
    "Dynamically typed language(No need to mention data type based on the value assigned, it takes data type) ,\n",
    "Object-Oriented and Procedural  Programming language,\n",
    "Portable and Interactive,\n",
    "Ideal for prototypes – provide more functionality with less coding,\n",
    "Highly Efficient(Python’s clean object-oriented design provides enhanced process control, and the language is equipped with excellent text processing and integration capabilities, as well as its own unit testing framework, which makes it more efficient.),\n",
    "Internet of Things(IoT) Opportunities,\n",
    "Interpreted Language,\n",
    "Portable across Operating systems "
   ]
  },
  {
   "cell_type": "markdown",
   "id": "c111b389-1419-4cb0-8356-80046eeedf82",
   "metadata": {},
   "source": [
    "14. How is memory managed in Python?\n",
    "\n",
    "A. Memory management in Python involves a private heap containing all Python objects and data structures. The management of this private heap is ensured internally by the Python memory manager."
   ]
  },
  {
   "cell_type": "markdown",
   "id": "c1ac4388-0620-4396-9f5e-388d62b99efb",
   "metadata": {},
   "source": [
    "15. How to install Python on Windows and set path variables?\n",
    "\n",
    "A.\n",
    "first download python from www.python.org website and then install it in your pc.\n",
    "\n",
    "set path variables:-\n",
    "\n",
    "1.Right-clicking This PC and going to Properties.\n",
    "\n",
    "2.Clicking on the Advanced system settings in the menu on the left.\n",
    "\n",
    "3.Clicking on the Environment Variables button o​n the bottom right.\n",
    "\n",
    "4.In the System variables section, selecting the Path variable and clicking on Edit. The next screen will show all the directories that are currently a part of the PATH variable.\n",
    "\n",
    "5.Clicking on New and entering Python’s install directory.\n"
   ]
  },
  {
   "cell_type": "markdown",
   "id": "03ba13b7-b0be-4ec5-be46-447b08f4db74",
   "metadata": {},
   "source": [
    "16. Is indentation required in python?\n",
    "\n",
    "A. Yes"
   ]
  },
  {
   "cell_type": "code",
   "execution_count": null,
   "id": "17ff0b45-aff1-4027-aa2a-9ae79fbcbccc",
   "metadata": {},
   "outputs": [],
   "source": []
  }
 ],
 "metadata": {
  "kernelspec": {
   "display_name": "Python 3 (ipykernel)",
   "language": "python",
   "name": "python3"
  },
  "language_info": {
   "codemirror_mode": {
    "name": "ipython",
    "version": 3
   },
   "file_extension": ".py",
   "mimetype": "text/x-python",
   "name": "python",
   "nbconvert_exporter": "python",
   "pygments_lexer": "ipython3",
   "version": "3.10.8"
  }
 },
 "nbformat": 4,
 "nbformat_minor": 5
}
