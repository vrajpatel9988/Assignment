{
 "cells": [
  {
   "cell_type": "code",
   "execution_count": 15,
   "id": "3ea4f328-ac73-4ecf-bd1f-645b45d2ca68",
   "metadata": {},
   "outputs": [],
   "source": [
    "# Q1. Which function is used to open a file? What are the different modes of opening a file? Explain each mode of file opening.\n",
    "\n",
    "# open() builtin function is used to open files.\n",
    "# Different modes of file opening:\n",
    "    \n",
    "# Character\t     Meaning\n",
    "\n",
    "# 'r'\t         open for reading (default)\n",
    "\n",
    "# 'w'\t         open for writing, truncating the file first\n",
    "\n",
    "# 'x'\t         create a new file and open it for writing\n",
    "\n",
    "# 'a'\t         open for writing, appending to the end of the file if it exists\n",
    "\n",
    "# 'b'\t         binary mode\n",
    "\n",
    "# 't'\t         text mode (default)\n",
    "\n",
    "# '+'\t         open a disk file for updating (reading and writing)"
   ]
  },
  {
   "cell_type": "markdown",
   "id": "dcc5c97e-f21a-454c-9c3b-f3098a1b1f4e",
   "metadata": {},
   "source": [
    "Q2. Why close() function is used? Why is it important to close a file?\n",
    "\n",
    "close() funtion is used to close the opened file.\n",
    "\n",
    "1. Due to opened in whole program it can get corruput for some reason.\n",
    "\n",
    "2. Opened files occupies memory in RAM."
   ]
  },
  {
   "cell_type": "markdown",
   "id": "da8d5ef5-d0f0-4834-83dc-6b12440e6741",
   "metadata": {},
   "source": [
    "Q3. Write a python program to create a text file. Write ‘I want to become a Data Scientist’ in that file. Then close the file. Open this file and read the content of the file."
   ]
  },
  {
   "cell_type": "code",
   "execution_count": 1,
   "id": "f5d85fa5-598c-4faa-8c3a-0ec8d9434915",
   "metadata": {},
   "outputs": [],
   "source": [
    "q3 = open('Q3.txt', 'w')\n",
    "\n",
    "q3.write('I want to beacome a Data Scientist.')\n",
    "\n",
    "q3.close()"
   ]
  },
  {
   "cell_type": "code",
   "execution_count": 2,
   "id": "5bc5b6fe-5450-4ba2-a297-848d6fd61965",
   "metadata": {},
   "outputs": [
    {
     "name": "stdout",
     "output_type": "stream",
     "text": [
      "I want to beacome a Data Scientist.\n"
     ]
    }
   ],
   "source": [
    "q3 = open('Q3.txt', 'r')\n",
    "\n",
    "print(q3.read())\n",
    "\n",
    "q3.close()"
   ]
  },
  {
   "cell_type": "markdown",
   "id": "00b8af47-bcd5-4f43-adab-acb582b7dd3e",
   "metadata": {},
   "source": [
    "Q4. Explain the following with python code: read(), readline() and readlines()."
   ]
  },
  {
   "cell_type": "code",
   "execution_count": 8,
   "id": "fef4c62e-5913-4128-a389-3bc8f9b0affd",
   "metadata": {},
   "outputs": [],
   "source": [
    "with open('Q4.txt', 'w') as q4:\n",
    "    write = ['I am Vraj Patel.\\n', 'This second line.\\n', 'This is third line.\\n', 'This is fourth line.\\n']\n",
    "\n",
    "    q4.writelines(write)"
   ]
  },
  {
   "cell_type": "code",
   "execution_count": 9,
   "id": "b4391025-9023-4708-9ce7-988b94025d6d",
   "metadata": {},
   "outputs": [
    {
     "name": "stdout",
     "output_type": "stream",
     "text": [
      "I am Vraj Patel.\n",
      "This second line.\n",
      "This is third line.\n",
      "This is fourth line.\n",
      "\n"
     ]
    }
   ],
   "source": [
    "with open('Q4.txt', 'r') as q4:\n",
    "    print(q4.read())    # Read the whole file at a time."
   ]
  },
  {
   "cell_type": "code",
   "execution_count": 10,
   "id": "6c3da7ff-5f34-4bdd-9e16-8c564e95c2d1",
   "metadata": {},
   "outputs": [
    {
     "name": "stdout",
     "output_type": "stream",
     "text": [
      "['I am Vraj Patel.\\n', 'This second line.\\n', 'This is third line.\\n', 'This is fourth line.\\n']\n"
     ]
    }
   ],
   "source": [
    "with open('Q4.txt', 'r') as q4:\n",
    "    print(q4.readlines())   # Read the the whole file line by line and return a list of strings."
   ]
  },
  {
   "cell_type": "code",
   "execution_count": 11,
   "id": "00e73478-b0a4-41c2-bae1-ff561eae9521",
   "metadata": {},
   "outputs": [
    {
     "name": "stdout",
     "output_type": "stream",
     "text": [
      "I am Vraj Patel.\n",
      "This second line.\n",
      "This is third line.\n"
     ]
    }
   ],
   "source": [
    "with open('Q4.txt', 'r') as q4:\n",
    "    print(q4.readline(), end='')    # Read one line at a time of the file and returns it.\n",
    "    print(q4.readline(), end='')\n",
    "    print(q4.readline(), end='')"
   ]
  },
  {
   "cell_type": "markdown",
   "id": "a91326f9-b8fe-44ea-b20e-768613139cb4",
   "metadata": {},
   "source": [
    "Q5. Explain why with statement is used with open(). What is the advantage of using with statement and open() together?\n",
    "\n",
    "with keyword is used as context manager with open() function. It is use because with statement close the file when the program context ends.\n",
    "\n",
    "It reduce the file corruption chances. And make the programmer tension free to check wheher the file colses in the program or not."
   ]
  },
  {
   "cell_type": "markdown",
   "id": "8a86cde8-e62d-4daa-bb60-817b622d49dd",
   "metadata": {},
   "source": [
    "Q6. Explain the write() and writelines() functions. Give a suitable example."
   ]
  },
  {
   "cell_type": "code",
   "execution_count": 12,
   "id": "571e1dc0-6b7b-4f47-b536-de86684b645f",
   "metadata": {},
   "outputs": [],
   "source": [
    "lines = ['Line1\\n', 'line2\\n', 'line3\\n', 'line4\\n']\n",
    "with open('Q5.txt', 'w') as q5:\n",
    "    for i in lines:\n",
    "        q5.write(i)    # Write in the files with individual strings."
   ]
  },
  {
   "cell_type": "code",
   "execution_count": 13,
   "id": "b0f938a3-9ee1-49aa-ade3-12dbe96b95d4",
   "metadata": {},
   "outputs": [],
   "source": [
    "with open('Q5.txt', 'w') as q5:\n",
    "    q5.writelines(lines)    # Write in the files with list of strings."
   ]
  },
  {
   "cell_type": "code",
   "execution_count": null,
   "id": "bd98b523-2a5b-4a6c-aadb-a6aea6a67fb8",
   "metadata": {},
   "outputs": [],
   "source": []
  }
 ],
 "metadata": {
  "kernelspec": {
   "display_name": "Python 3 (ipykernel)",
   "language": "python",
   "name": "python3"
  },
  "language_info": {
   "codemirror_mode": {
    "name": "ipython",
    "version": 3
   },
   "file_extension": ".py",
   "mimetype": "text/x-python",
   "name": "python",
   "nbconvert_exporter": "python",
   "pygments_lexer": "ipython3",
   "version": "3.10.8"
  }
 },
 "nbformat": 4,
 "nbformat_minor": 5
}
