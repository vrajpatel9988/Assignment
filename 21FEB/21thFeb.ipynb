{
 "cells": [
  {
   "cell_type": "markdown",
   "id": "64f0bfaf-f271-45c5-a4ae-0f7b929a2ed5",
   "metadata": {},
   "source": [
    "Q1. What is Web Scraping? Why is it Used? Give three areas where Web Scraping is used to get data.\n",
    "\n",
    "Web Scrapping is way to gether data from website to perform analysis on it.\n",
    "\n",
    "It is used to gather data from public websites which are required for your work.\n",
    "\n",
    "Three area where Web Scrapping is used to data\n",
    "\n",
    "1.E-commerce: Web scraping is used to collect product information and prices from different e-commerce websites like Amazon, flipkart etc.\n",
    "\n",
    "2.Research and Analysis: Web scraping is used to collect data from different sources to perform research and analysis in various fields.\n",
    "\n",
    "3.Marketing and Sales: Web scraping is used to collect data on consumer behavior and preferences, competitor analysis, and social media monitoring to improve customer experience with the products."
   ]
  },
  {
   "cell_type": "markdown",
   "id": "c12ddb46-a81d-4176-ba98-e859eb54654e",
   "metadata": {},
   "source": [
    "Q2. What are the different methods used for Web Scraping?\n",
    "\n",
    "1.Using customized Python Scripts you can scrape the websites web pages data.\n",
    "\n",
    "2.Some websites offer APIs to access data, which can be used for web scraping purposes."
   ]
  },
  {
   "cell_type": "markdown",
   "id": "5784a1fa-7dad-48db-8541-bb29ab6d9ee3",
   "metadata": {},
   "source": [
    "Q3. What is Beautiful Soup? Why is it used?\n",
    "\n",
    "Beautiful Soup is a class in bs4 module in Python which is used to parse through html scripts and get data out of it."
   ]
  },
  {
   "cell_type": "markdown",
   "id": "a5fde262-2bfc-4c37-ae46-c7c068fb0d91",
   "metadata": {},
   "source": [
    "Q4. Why is flask used in this Web Scraping project?\n",
    "\n",
    "Flask is a micro web framework in Python that is commonly used for building web applications, including web scraping applications.\n",
    "\n",
    "Flask can be used to create a web application that can scrape data from websites, process the data, and display it to the user."
   ]
  },
  {
   "cell_type": "markdown",
   "id": "b8a89aa0-0c70-4f8e-97d9-386106bdb40d",
   "metadata": {},
   "source": [
    "Q5. Write the names of AWS services used in this project. Also, explain the use of each service.\n",
    "\n",
    "Sevices used in this project are :\n",
    "\n",
    "1.Beanstalk : AWS Elastic Beanstalk is a fully managed service that makes it easy to deploy and scale web applications and services. It \n",
    "\n",
    "provides an environment for hosting your web applications that automatically handles the deployment.\n",
    "\n",
    "2.CodePipeline : AWS CodePipeline is a continuous integration and continuous delivery (CI/CD) service used to build, test, and deploy \n",
    "\n",
    "code.CodePipeline integrates with other AWS services like Elastic Beanstalk, CodeCommit, CodeBuild, CodeDeploy allowing the user to build a \n",
    "\n",
    "complete CI/CD pipeline."
   ]
  },
  {
   "cell_type": "code",
   "execution_count": null,
   "id": "83cbd491-dad1-48f0-b986-0190470f4c34",
   "metadata": {},
   "outputs": [],
   "source": []
  }
 ],
 "metadata": {
  "kernelspec": {
   "display_name": "Python 3 (ipykernel)",
   "language": "python",
   "name": "python3"
  },
  "language_info": {
   "codemirror_mode": {
    "name": "ipython",
    "version": 3
   },
   "file_extension": ".py",
   "mimetype": "text/x-python",
   "name": "python",
   "nbconvert_exporter": "python",
   "pygments_lexer": "ipython3",
   "version": "3.10.8"
  }
 },
 "nbformat": 4,
 "nbformat_minor": 5
}
