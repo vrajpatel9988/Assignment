{
 "cells": [
  {
   "cell_type": "markdown",
   "id": "58b16f52-3e50-45c8-90a8-318c92460913",
   "metadata": {},
   "source": [
    "Q1. Create a vehicle class with an init method having instance variables as name_of_vehicle, max_speed and average_of_vehicle."
   ]
  },
  {
   "cell_type": "code",
   "execution_count": 1,
   "id": "f2af0d79-f7c7-4416-9188-09d50a4b014d",
   "metadata": {},
   "outputs": [
    {
     "data": {
      "text/plain": [
       "'Truck'"
      ]
     },
     "execution_count": 1,
     "metadata": {},
     "output_type": "execute_result"
    }
   ],
   "source": [
    "class Vehicle:\n",
    "    def __init__(self, name, max_speed, avg_speed) -> None:\n",
    "        self.name_of_vehicle = name\n",
    "        self.max_speed = max_speed\n",
    "        self.avg_speed = avg_speed\n",
    "\n",
    "\n",
    "v1 = Vehicle('Truck', 40, 32)\n",
    "v1.name_of_vehicle"
   ]
  },
  {
   "cell_type": "markdown",
   "id": "645b8da8-702c-4487-983b-d1cc6a13ac03",
   "metadata": {},
   "source": [
    "Q2. Create a child class car from the vehicle class created in Que 1, which will inherit the vehicle class. Create a method named seating_capacity which takes capacity as an argument and returns the name of the vehicle and its seating capacity."
   ]
  },
  {
   "cell_type": "code",
   "execution_count": 2,
   "id": "d8326636-4dcd-4b5d-a257-8e3abc39bd24",
   "metadata": {},
   "outputs": [
    {
     "data": {
      "text/plain": [
       "'Innova -> 6'"
      ]
     },
     "execution_count": 2,
     "metadata": {},
     "output_type": "execute_result"
    }
   ],
   "source": [
    "class Car(Vehicle):\n",
    "    def seating_capacity(self, capacity) -> str:\n",
    "        self.capacity = capacity\n",
    "        return f'{self.name_of_vehicle} -> {capacity}'\n",
    "\n",
    "\n",
    "car1 = Car('Innova', 80, 70)\n",
    "\n",
    "car1.seating_capacity(6)"
   ]
  },
  {
   "cell_type": "markdown",
   "id": "55f1df61-8b32-459b-8bc4-12b38c019f10",
   "metadata": {},
   "source": [
    "Q3. What is multiple inheritance? Write a python code to demonstrate multiple inheritance.\n",
    "\n",
    "Multiple Inheritance is a way to inherit behaviour of multiple classes like methods, instance variables etc."
   ]
  },
  {
   "cell_type": "code",
   "execution_count": 3,
   "id": "ca49175f-373c-41f6-a986-fdb7ba524528",
   "metadata": {},
   "outputs": [],
   "source": [
    "class MusicSystem:\n",
    "    def play_music(self, music_name):\n",
    "        return f'Now Playing... \\n>>> {music_name} <<<'"
   ]
  },
  {
   "cell_type": "code",
   "execution_count": 4,
   "id": "f9abd80a-f38f-45ee-910c-a335cf9bd18f",
   "metadata": {},
   "outputs": [
    {
     "name": "stdout",
     "output_type": "stream",
     "text": [
      "120000\n",
      "Now Playing... \n",
      ">>> Aasmaan by Anumita Nadesan <<<\n"
     ]
    }
   ],
   "source": [
    "class Scorpio(Car, MusicSystem):\n",
    "    def get_price(self) -> int:\n",
    "        return 1_20_000\n",
    "\n",
    "\n",
    "scorpio = Scorpio('SUV', 80, 74)\n",
    "print(scorpio.get_price())\n",
    "print(scorpio.play_music('Aasmaan by Anumita Nadesan'))"
   ]
  },
  {
   "cell_type": "markdown",
   "id": "58611bda-2b08-4aec-b310-d817296e1430",
   "metadata": {},
   "source": [
    "Q4. What are getter and setter in python? Create a class and create a getter and a setter method in this class."
   ]
  },
  {
   "cell_type": "code",
   "execution_count": 5,
   "id": "fd552b75-0776-4ff5-a780-549d91c54615",
   "metadata": {},
   "outputs": [
    {
     "name": "stdout",
     "output_type": "stream",
     "text": [
      "12 4\n"
     ]
    }
   ],
   "source": [
    "class Point:\n",
    "    def __init__(self, a, b) -> None:\n",
    "        self.__a = a\n",
    "        self.__b = b\n",
    "\n",
    "    def get_a(self):\n",
    "        return self.__a\n",
    "\n",
    "    def get_b(self):\n",
    "        return self.__b\n",
    "\n",
    "    def set_a(self, value):\n",
    "        self.__a = value if value > 0 else -1\n",
    "\n",
    "    def set_b(self, value):\n",
    "        self.__b = value if value > 0 else -1\n",
    "\n",
    "\n",
    "p1 = Point(2, 4)\n",
    "p1.set_a(12)\n",
    "print(p1.get_a(), p1.get_b())"
   ]
  },
  {
   "cell_type": "markdown",
   "id": "83b04474-5ba9-44b9-ac6e-ef435b43f5d8",
   "metadata": {},
   "source": [
    "Q5. What is method overriding in python? Write a python code to demonstrate method overriding."
   ]
  },
  {
   "cell_type": "code",
   "execution_count": 7,
   "id": "e5fddf93-4fb0-4b1f-9906-e81106f5cb5c",
   "metadata": {},
   "outputs": [
    {
     "name": "stdout",
     "output_type": "stream",
     "text": [
      "Inside Class1\n",
      "Inside Class2\n"
     ]
    }
   ],
   "source": [
    "class Class1():\n",
    "    def __init__(self):\n",
    "        self.value = \"Inside Class1\"\n",
    "\n",
    "    def show(self):\n",
    "        print(self.value)\n",
    "\n",
    "\n",
    "class Class2(Class1):\n",
    "    def __init__(self):\n",
    "        self.value = \"Inside Class2\"\n",
    "\n",
    "    def show(self):\n",
    "        print(self.value)\n",
    "\n",
    "\n",
    "obj1 = Class1()\n",
    "obj2 = Class2()\n",
    "\n",
    "obj1.show()\n",
    "obj2.show()"
   ]
  },
  {
   "cell_type": "code",
   "execution_count": null,
   "id": "fde994da-5355-4814-857d-c270d888a670",
   "metadata": {},
   "outputs": [],
   "source": []
  }
 ],
 "metadata": {
  "kernelspec": {
   "display_name": "Python 3 (ipykernel)",
   "language": "python",
   "name": "python3"
  },
  "language_info": {
   "codemirror_mode": {
    "name": "ipython",
    "version": 3
   },
   "file_extension": ".py",
   "mimetype": "text/x-python",
   "name": "python",
   "nbconvert_exporter": "python",
   "pygments_lexer": "ipython3",
   "version": "3.10.8"
  }
 },
 "nbformat": 4,
 "nbformat_minor": 5
}
