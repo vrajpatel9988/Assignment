{
 "cells": [
  {
   "cell_type": "markdown",
   "id": "a56a90d2-bfc3-41cb-9bff-e4d5bfcd71dc",
   "metadata": {},
   "source": [
    "Q1. What is multithreading in python? Why is it used? Name the module used to handle threads in python.\n",
    "\n",
    "Multithreading in Python refers to the ability to run multiple threads or processes simultaneously within a single process. Each thread is a separate flow of execution, with its own logic. Multithreading is used to improve the performance of a program by making better use of the available CPU resources.\n",
    "\n",
    "Python has a built-in threading module that provides a higher-level interface for creating and managing threads. This module allows you to create and start new threads, manage their life cycle, and share data between them."
   ]
  },
  {
   "cell_type": "markdown",
   "id": "9cae7907-20ec-4ab7-9db9-770dbcc98944",
   "metadata": {},
   "source": [
    "Q2. Why threading module used? Write the use of the following functions:\n",
    "\n",
    "    1.activeCount()\n",
    "\n",
    "    2.currentThread()\n",
    "\n",
    "    3.enumerate()\n",
    "    \n",
    "The threading module in Python is used to create and manage threads. It provides a higher-level interface to work with threads as compared to the low-level thread module.\n",
    "\n",
    "Use of following functions:\n",
    "    \n",
    "    1.activeCount(): This function is used to return the number of currently active thread objects in the calling thread's process. It returns an integer that represents the total number of active threads.\n",
    "\n",
    "    2.currentThread(): This function is used to return a reference to the currently executing thread object. It returns a Thread object that represents the current thread.\n",
    "\n",
    "    3.enumerate(): This function is used to return a list of all thread objects that are currently active in the calling thread's process. It returns a list of Thread objects that represent each active thread. By default, it returns a list of all threads, but you can pass a Boolean argument group=None to get only the active threads that are started by the current process."
   ]
  },
  {
   "cell_type": "markdown",
   "id": "9806b57a-6578-4a5d-869d-215815634a83",
   "metadata": {},
   "source": [
    "Q3. Explain the following functions:\n",
    "\n",
    "    1.run()\n",
    "\n",
    "    2.start()\n",
    "\n",
    "    3.join()\n",
    "\n",
    "    4.isAlive()\n",
    "    \n",
    "    \n",
    "\n",
    "    1.run(): This method is used to specify the code that will be executed in the thread. When you create a new thread, you can override the run() method and provide your own implementation for the thread's behavior. This method is called automatically when you call the start() method.\n",
    "\n",
    "    2.start(): This method is used to start a new thread by calling the run() method in a separate thread of execution. It allocates the necessary resources for the thread and starts it running. When the start() method is called, a new thread is created, and the run() method is called automatically in the new thread.\n",
    "\n",
    "    3.join(): This method is used to wait for a thread to complete its execution. When you call the join() method on a thread, the calling thread is blocked until the thread being joined completes its execution. This is useful when you need to synchronize the execution of multiple threads.\n",
    "\n",
    "    4.isAlive(): This method is used to check whether a thread is still executing or not. It returns a Boolean value that indicates whether the thread is alive or not. If the thread is alive, it returns True; otherwise, it returns False. You can use this method to check the status of a thread and perform some action based on the thread's status."
   ]
  },
  {
   "cell_type": "markdown",
   "id": "4ff95547-afdd-4dbe-beeb-7e033af52463",
   "metadata": {},
   "source": [
    "Q4. Write a python program to create two threads. Thread one must print the list of squares and thread two must print the list of cubes."
   ]
  },
  {
   "cell_type": "code",
   "execution_count": 2,
   "id": "ea28d6a5-320a-4935-a4d7-ff11b99ebe74",
   "metadata": {},
   "outputs": [
    {
     "name": "stdout",
     "output_type": "stream",
     "text": [
      "1\n",
      "4\n",
      "9\n",
      "16\n",
      "25\n",
      "36\n",
      "49\n",
      "64\n",
      "81\n",
      "100\n",
      "1\n",
      "8\n",
      "27\n",
      "64\n",
      "125\n",
      "216\n",
      "343\n",
      "512\n",
      "729\n",
      "1000\n",
      "Done\n"
     ]
    }
   ],
   "source": [
    "import threading\n",
    "\n",
    "def print_squares():\n",
    "    for i in range(1, 11):\n",
    "        print(i**2)\n",
    "\n",
    "def print_cubes():\n",
    "    for i in range(1, 11):\n",
    "        print(i**3)\n",
    "\n",
    "t1 = threading.Thread(target=print_squares)\n",
    "t2 = threading.Thread(target=print_cubes)\n",
    "\n",
    "t1.start()\n",
    "t2.start()\n",
    "\n",
    "t1.join()\n",
    "t2.join()\n",
    "\n",
    "print(\"Done\")"
   ]
  },
  {
   "cell_type": "markdown",
   "id": "ae87ec67-de0b-457e-9962-fdfc85e2ab52",
   "metadata": {},
   "source": [
    "Q5. State advantages and disadvantages of multithreading.\n",
    "\n",
    "Advantages of multithreading:\n",
    "\n",
    "    1.Improved performance: Multithreading allows you to perform multiple tasks simultaneously, which can improve the overall performance of your application.\n",
    "\n",
    "    2.Responsiveness: Multithreading can make your application more responsive to user interactions, by allowing it to continue to process user input while performing other tasks in the background.\n",
    "\n",
    "Disadvantages of multithreading:\n",
    "\n",
    "    1.Synchronization: When multiple threads access shared resources concurrently, it can lead to synchronization issues, such as race conditions and deadlocks, which can be difficult to debug and resolve.\n",
    "\n",
    "    2.Overhead: Creating and managing multiple threads can incur additional overhead and increase the memory footprint of your application, which can be a concern in resource-constrained environments."
   ]
  },
  {
   "cell_type": "markdown",
   "id": "e9344b76-f8b2-4252-afcc-1810a536a5f9",
   "metadata": {},
   "source": [
    "Q6. Explain deadlocks and race conditions.\n",
    "\n",
    "Deadlocks: A situation where two or more threads are blocked, each waiting for the other to release a resource, causing the entire application to hang.\n",
    "\n",
    "Race conditions: A situation where two or more threads access a shared resource concurrently, leading to unpredictable or incorrect behavior, such as inconsistent data or program crashes."
   ]
  },
  {
   "cell_type": "code",
   "execution_count": null,
   "id": "78c671a5-eaf8-4478-a61c-68501c5de220",
   "metadata": {},
   "outputs": [],
   "source": []
  }
 ],
 "metadata": {
  "kernelspec": {
   "display_name": "Python 3 (ipykernel)",
   "language": "python",
   "name": "python3"
  },
  "language_info": {
   "codemirror_mode": {
    "name": "ipython",
    "version": 3
   },
   "file_extension": ".py",
   "mimetype": "text/x-python",
   "name": "python",
   "nbconvert_exporter": "python",
   "pygments_lexer": "ipython3",
   "version": "3.10.8"
  }
 },
 "nbformat": 4,
 "nbformat_minor": 5
}
