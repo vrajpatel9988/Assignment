{
 "cells": [
  {
   "cell_type": "markdown",
   "id": "257f43ac-8c0a-4004-9b82-f284218c2470",
   "metadata": {},
   "source": [
    "Q1:-"
   ]
  },
  {
   "cell_type": "code",
   "execution_count": 5,
   "id": "c091dcd9-522a-42be-8183-303d4b2186aa",
   "metadata": {},
   "outputs": [
    {
     "name": "stdin",
     "output_type": "stream",
     "text": [
      "Enter Your Percentage :-  81\n"
     ]
    },
    {
     "name": "stdout",
     "output_type": "stream",
     "text": [
      "You achieve B grade\n"
     ]
    }
   ],
   "source": [
    "score = int(input(\"Enter Your Percentage :- \"))\n",
    "if(score>90):\n",
    "    print(\"You achieve A grade\")\n",
    "elif(score>80 and score<=90):\n",
    "    print(\"You achieve B grade\")\n",
    "elif(score>=60 and score<=80):\n",
    "    print(\"You achieve C grade\")\n",
    "else:\n",
    "    print(\"You achieve D grade\")"
   ]
  },
  {
   "cell_type": "markdown",
   "id": "336ee599-bf10-4037-a292-ec193453994e",
   "metadata": {},
   "source": [
    "Q2:-"
   ]
  },
  {
   "cell_type": "code",
   "execution_count": 8,
   "id": "064f9ba8-31a8-444f-a993-19c280bcd5ba",
   "metadata": {},
   "outputs": [
    {
     "name": "stdin",
     "output_type": "stream",
     "text": [
      "Enter Your Cost Price :-  55000\n"
     ]
    },
    {
     "name": "stdout",
     "output_type": "stream",
     "text": [
      "You have to pay 10% Road tax\n"
     ]
    }
   ],
   "source": [
    "price = int(input(\"Enter Your Cost Price :- \"))\n",
    "if(price>100000):\n",
    "    print(\"You have to pay 15% Road tax\")\n",
    "elif(price>50000 and price<=100000):\n",
    "    print(\"You have to pay 10% Road tax\")\n",
    "else:\n",
    "    print(\"You have to pay 5% Road tax\")"
   ]
  },
  {
   "cell_type": "markdown",
   "id": "cdd46b40-608a-4ec4-a8f2-ca4eac4c447c",
   "metadata": {},
   "source": [
    "Q3:-"
   ]
  },
  {
   "cell_type": "code",
   "execution_count": 15,
   "id": "c4409251-bae2-4833-8926-8e112c29b43d",
   "metadata": {},
   "outputs": [
    {
     "name": "stdin",
     "output_type": "stream",
     "text": [
      "Enter a City:  agra\n"
     ]
    },
    {
     "name": "stdout",
     "output_type": "stream",
     "text": [
      "Taj Mahal\n"
     ]
    }
   ],
   "source": [
    "city = input(\"Enter a City: \")\n",
    "if city == 'delhi':\n",
    "    print(\"Red Fort\")\n",
    "elif city == 'agra':\n",
    "    print(\"Taj Mahal\")\n",
    "elif city == 'jaipur':\n",
    "    print('Jal Mahal')\n",
    "else:\n",
    "    print('Enter a Valid City')"
   ]
  },
  {
   "cell_type": "markdown",
   "id": "0823d65e-800e-4dd9-a85c-d1defe23a532",
   "metadata": {},
   "source": [
    "Q4:-"
   ]
  },
  {
   "cell_type": "code",
   "execution_count": 17,
   "id": "dafe76c1-ddcc-46d6-bac8-1276daa71ed7",
   "metadata": {},
   "outputs": [
    {
     "name": "stdin",
     "output_type": "stream",
     "text": [
      "Enter Number :  33\n"
     ]
    },
    {
     "name": "stdout",
     "output_type": "stream",
     "text": [
      "2\n"
     ]
    }
   ],
   "source": [
    "number = int(input(\"Enter Number : \"))\n",
    "count = 0   # initialize the counter to 0\n",
    "while number > 10:   # while the number is greater than 10\n",
    "    number = number / 3  # divide the number by 3\n",
    "    count += 1       # increment the counter\n",
    "print(count)"
   ]
  },
  {
   "cell_type": "markdown",
   "id": "7c6e4ac3-8389-486c-b4de-6e7934834375",
   "metadata": {},
   "source": [
    "Q5:-"
   ]
  },
  {
   "cell_type": "raw",
   "id": "8676cae8-26a7-4990-a12e-5eb531d28488",
   "metadata": {},
   "source": [
    "A While loop in Python allows a part of the code to be executed repeatedly as long as a given condition is true. \n",
    "The While loop in Python is also called a pre-tested loop. \n",
    "It is typically used when the number of iterations is not known.\n",
    "\n",
    "A Python While loop expression/condition consists of three parts :-\n",
    "\n",
    "1. A piece of code that needs to be repeated over and over\n",
    "2. The while keyword \n",
    "3. A condition that translates to either True or False\n",
    "\n",
    "Python While Loop Syntax :-\n",
    "\n",
    "while (expression):\n",
    "Body of while\n",
    "\n",
    "Python While Loop Example :-\n",
    "\n",
    "count = 0\n",
    "while count < 5:\n",
    "    print(\"Count is:\", count)\n",
    "    count += 1"
   ]
  },
  {
   "cell_type": "markdown",
   "id": "e06cadd4-9657-465e-9e5d-4d3e600c7418",
   "metadata": {},
   "source": [
    "Q6:-"
   ]
  },
  {
   "cell_type": "raw",
   "id": "a364b24c-cbc7-401a-83eb-30688077c899",
   "metadata": {},
   "source": [
    "1. Square pattern:\n",
    "****\n",
    "****\n",
    "****\n",
    "****\n",
    "\n",
    "Code:"
   ]
  },
  {
   "cell_type": "code",
   "execution_count": 20,
   "id": "d7458e1c-a36b-400f-bf57-be72e48e0c22",
   "metadata": {},
   "outputs": [
    {
     "name": "stdout",
     "output_type": "stream",
     "text": [
      "****\n",
      "****\n",
      "****\n",
      "****\n"
     ]
    }
   ],
   "source": [
    "i = 0\n",
    "while i < 4:\n",
    "    j = 0\n",
    "    while j < 4:\n",
    "        print(\"*\", end=\"\")\n",
    "        j += 1\n",
    "    print()\n",
    "    i += 1"
   ]
  },
  {
   "cell_type": "raw",
   "id": "1d6ea752-063b-44c3-ab3d-108825e7a9dd",
   "metadata": {},
   "source": [
    "2. Right triangle pattern:\n",
    "*\n",
    "**\n",
    "***\n",
    "****\n",
    "\n",
    "Code:"
   ]
  },
  {
   "cell_type": "code",
   "execution_count": 21,
   "id": "b354a886-93ce-4847-9fb0-73653927ee8f",
   "metadata": {},
   "outputs": [
    {
     "name": "stdout",
     "output_type": "stream",
     "text": [
      "*\n",
      "**\n",
      "***\n",
      "****\n"
     ]
    }
   ],
   "source": [
    "i = 1\n",
    "while i <= 4:\n",
    "    j = 1\n",
    "    while j <= i:\n",
    "        print(\"*\", end=\"\")\n",
    "        j += 1\n",
    "    print()\n",
    "    i += 1"
   ]
  },
  {
   "cell_type": "raw",
   "id": "532ea072-6e48-4eba-8867-804aad8078fe",
   "metadata": {},
   "source": [
    "3. Diamond pattern:\n",
    "  *\n",
    " ***\n",
    "*****\n",
    " ***\n",
    "  *\n",
    "\n",
    "Code:"
   ]
  },
  {
   "cell_type": "code",
   "execution_count": 22,
   "id": "c3898f5e-45e2-424a-81ee-4eef65e1925e",
   "metadata": {},
   "outputs": [
    {
     "name": "stdout",
     "output_type": "stream",
     "text": [
      "   *\n",
      "  ***\n",
      " *****\n",
      "  ***\n",
      "   *\n"
     ]
    }
   ],
   "source": [
    "i = 1\n",
    "while i <= 3:\n",
    "    j = 3\n",
    "    while j >= i:\n",
    "        print(\" \", end=\"\")\n",
    "        j -= 1\n",
    "    k = 1\n",
    "    while k <= i*2-1:\n",
    "        print(\"*\", end=\"\")\n",
    "        k += 1\n",
    "    print()\n",
    "    i += 1\n",
    "\n",
    "i = 2\n",
    "while i >= 1:\n",
    "    j = 3\n",
    "    while j >= i:\n",
    "        print(\" \", end=\"\")\n",
    "        j -= 1\n",
    "    k = 1\n",
    "    while k <= i*2-1:\n",
    "        print(\"*\", end=\"\")\n",
    "        k += 1\n",
    "    print()\n",
    "    i -= 1"
   ]
  },
  {
   "cell_type": "markdown",
   "id": "35d35418-e461-4245-8f02-ed2727aa5632",
   "metadata": {},
   "source": [
    "Q7:-"
   ]
  },
  {
   "cell_type": "code",
   "execution_count": 23,
   "id": "132805bc-3034-47ca-a05a-64918db13ef2",
   "metadata": {},
   "outputs": [
    {
     "name": "stdout",
     "output_type": "stream",
     "text": [
      "10\n",
      "9\n",
      "8\n",
      "7\n",
      "6\n",
      "5\n",
      "4\n",
      "3\n",
      "2\n",
      "1\n"
     ]
    }
   ],
   "source": [
    "count = 10\n",
    "while count>=1:\n",
    "    print(count)\n",
    "    count -= 1"
   ]
  },
  {
   "cell_type": "markdown",
   "id": "d0792273-bbd9-4902-b23d-72507ff4f4a5",
   "metadata": {},
   "source": [
    "Q8:-"
   ]
  },
  {
   "cell_type": "code",
   "execution_count": 24,
   "id": "4029c60f-c71b-4961-89c1-1e4249e24d89",
   "metadata": {},
   "outputs": [
    {
     "name": "stdout",
     "output_type": "stream",
     "text": [
      "10\n",
      "9\n",
      "8\n",
      "7\n",
      "6\n",
      "5\n",
      "4\n",
      "3\n",
      "2\n",
      "1\n"
     ]
    }
   ],
   "source": [
    "count = 10\n",
    "while count>=1:\n",
    "    print(count)\n",
    "    count -= 1"
   ]
  },
  {
   "cell_type": "code",
   "execution_count": null,
   "id": "985d0cd1-dc0e-4d68-b8ea-b8912218bde7",
   "metadata": {},
   "outputs": [],
   "source": []
  }
 ],
 "metadata": {
  "kernelspec": {
   "display_name": "Python 3 (ipykernel)",
   "language": "python",
   "name": "python3"
  },
  "language_info": {
   "codemirror_mode": {
    "name": "ipython",
    "version": 3
   },
   "file_extension": ".py",
   "mimetype": "text/x-python",
   "name": "python",
   "nbconvert_exporter": "python",
   "pygments_lexer": "ipython3",
   "version": "3.10.8"
  }
 },
 "nbformat": 4,
 "nbformat_minor": 5
}
