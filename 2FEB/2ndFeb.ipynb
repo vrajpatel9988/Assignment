{
 "cells": [
  {
   "cell_type": "markdown",
   "id": "d0a9403c-05ae-4f46-aee8-b7a3fb909dec",
   "metadata": {},
   "source": [
    "Q1:- Explain with an example each when to use a for loop and a while loop."
   ]
  },
  {
   "cell_type": "raw",
   "id": "39c961f4-a3c1-4d9c-96ba-f8696b963c63",
   "metadata": {},
   "source": [
    "For Loop:\n",
    "A for loop is used when we need to iterate a certain number of times or over a sequence of elements.\n",
    "\n",
    "Example:\n",
    "Suppose we have a list of numbers and we want to find the sum of all the numbers in the list. \n",
    "We can use a for loop to iterate over the list and add each number to a running total:\n",
    "\n",
    "numbers = [1, 2, 3, 4, 5]\n",
    "sum = 0\n",
    "for num in numbers:\n",
    "    sum += num\n",
    "print(sum)  # Output: 15\n",
    "\n",
    "Here, we use a for loop to iterate over each element in the numbers list and add it to the sum variable.\n",
    "\n",
    "While Loop:\n",
    "A while loop is used when we need to iterate until a certain condition is met.\n",
    "\n",
    "Example:\n",
    "\n",
    "count = 1\n",
    "while count <= 5:\n",
    "    print(count)\n",
    "    count += 1\n",
    "\n",
    "In this example, the while loop will execute as long as the condition count <= 5 is true. \n",
    "The loop starts with count equal to 1, and each time the loop iterates, the value of count is incremented by 1."
   ]
  },
  {
   "cell_type": "markdown",
   "id": "14818eda-d786-4d98-8002-c2b9e471602c",
   "metadata": {},
   "source": [
    "Q2:- Write a python program to print the sum and product of the first 10 natural numbers using for\n",
    "and while loop."
   ]
  },
  {
   "cell_type": "code",
   "execution_count": 1,
   "id": "76edec9c-c20d-438d-9617-4833504119d9",
   "metadata": {},
   "outputs": [
    {
     "name": "stdout",
     "output_type": "stream",
     "text": [
      "Sum of first 10 natural numbers: 55\n",
      "Product of first 10 natural numbers: 3628800\n"
     ]
    }
   ],
   "source": [
    "# Sum of first 10 natural numbers using while loop\n",
    "sum = 0\n",
    "i = 1\n",
    "while i <= 10:\n",
    "    sum += i\n",
    "    i += 1\n",
    "print(\"Sum of first 10 natural numbers:\", sum)\n",
    "\n",
    "# Product of first 10 natural numbers using while loop\n",
    "product = 1\n",
    "i = 1\n",
    "while i <= 10:\n",
    "    product *= i\n",
    "    i += 1\n",
    "print(\"Product of first 10 natural numbers:\", product)"
   ]
  },
  {
   "cell_type": "markdown",
   "id": "9a268835-29c8-4616-b3c9-583647f028ba",
   "metadata": {},
   "source": [
    "Q3:- Create a python program to compute the electricity bill for a household.\n",
    "The per-unit charges in rupees are as follows: For the first 100 units, the user will be charged Rs. 4.5 per\n",
    "unit, for the next 100 units, the user will be charged Rs. 6 per unit, and for the next 100 units, the user will\n",
    "be charged Rs. 10 per unit, After 300 units and above the user will be charged Rs. 20 per unit."
   ]
  },
  {
   "cell_type": "code",
   "execution_count": 2,
   "id": "08dc29d8-8f4a-4c67-9863-65497a8917cd",
   "metadata": {},
   "outputs": [
    {
     "name": "stdin",
     "output_type": "stream",
     "text": [
      "Enter the number of units:  150\n"
     ]
    },
    {
     "name": "stdout",
     "output_type": "stream",
     "text": [
      "Electricity bill: Rs. 750.0\n"
     ]
    }
   ],
   "source": [
    "units = int(input(\"Enter the number of units: \"))\n",
    "\n",
    "if units <= 100:\n",
    "    bill = units * 4.5\n",
    "elif units <= 200:\n",
    "    bill = 100 * 4.5 + (units - 100) * 6\n",
    "elif units <= 300:\n",
    "    bill = 100 * 4.5 + 100 * 6 + (units - 200) * 10\n",
    "else:\n",
    "    bill = 100 * 4.5 + 100 * 6 + 100 * 10 + (units - 300) * 20\n",
    "\n",
    "print(\"Electricity bill: Rs.\", bill)"
   ]
  },
  {
   "cell_type": "markdown",
   "id": "75646323-f032-4272-99c2-1cd2b387f1bf",
   "metadata": {},
   "source": [
    "Q4:- Create a list of numbers from 1 to 100. Use for loop and while loop to calculate the cube of each\n",
    "number and if the cube of that number is divisible by 4 or 5 then append that number in a list and print\n",
    "that list."
   ]
  },
  {
   "cell_type": "code",
   "execution_count": 6,
   "id": "5ab66818-9cd7-432d-985d-7e0a948e8424",
   "metadata": {},
   "outputs": [
    {
     "name": "stdout",
     "output_type": "stream",
     "text": [
      "For Loop Ans:-  [2, 4, 5, 6, 8, 10, 12, 14, 15, 16, 18, 20, 22, 24, 25, 26, 28, 30, 32, 34, 35, 36, 38, 40, 42, 44, 45, 46, 48, 50, 52, 54, 55, 56, 58, 60, 62, 64, 65, 66, 68, 70, 72, 74, 75, 76, 78, 80, 82, 84, 85, 86, 88, 90, 92, 94, 95, 96, 98, 100]\n",
      "While Loop Ans:-  [2, 4, 5, 6, 8, 10, 12, 14, 15, 16, 18, 20, 22, 24, 25, 26, 28, 30, 32, 34, 35, 36, 38, 40, 42, 44, 45, 46, 48, 50, 52, 54, 55, 56, 58, 60, 62, 64, 65, 66, 68, 70, 72, 74, 75, 76, 78, 80, 82, 84, 85, 86, 88, 90, 92, 94, 95, 96, 98, 100]\n"
     ]
    }
   ],
   "source": [
    "# Using for loop\n",
    "cubes = []\n",
    "for num in range(1, 101):\n",
    "    cube = num ** 3\n",
    "    if cube % 4 == 0 or cube % 5 == 0:\n",
    "        cubes.append(num)\n",
    "print(\"For Loop Ans:- \",cubes)\n",
    "\n",
    "# Using while loop\n",
    "cubes = []\n",
    "num = 1\n",
    "while num <= 100:\n",
    "    cube = num ** 3\n",
    "    if cube % 4 == 0 or cube % 5 == 0:\n",
    "        cubes.append(num)\n",
    "    num += 1\n",
    "print(\"While Loop Ans:- \",cubes)"
   ]
  },
  {
   "cell_type": "markdown",
   "id": "cd0f9513-7ffd-49bc-a54a-a80de3747bd7",
   "metadata": {},
   "source": [
    "Q5:- Write a program to filter count vowels in the below-given string.\n",
    "string = \"I want to become a data scientist\""
   ]
  },
  {
   "cell_type": "code",
   "execution_count": 7,
   "id": "b844ccb0-1593-4b51-9e53-5b3fa7673da2",
   "metadata": {},
   "outputs": [
    {
     "name": "stdout",
     "output_type": "stream",
     "text": [
      "Number of vowels in the string: 12\n"
     ]
    }
   ],
   "source": [
    "string = \"I want to become a data scientist\"\n",
    "vowels = \"aeiouAEIOU\"\n",
    "count = 0\n",
    "for char in string:\n",
    "    if char in vowels:\n",
    "        count += 1\n",
    "print(\"Number of vowels in the string:\", count)"
   ]
  },
  {
   "cell_type": "code",
   "execution_count": null,
   "id": "aebed821-c040-446d-be61-c9bba7aaafc7",
   "metadata": {},
   "outputs": [],
   "source": []
  }
 ],
 "metadata": {
  "kernelspec": {
   "display_name": "Python 3 (ipykernel)",
   "language": "python",
   "name": "python3"
  },
  "language_info": {
   "codemirror_mode": {
    "name": "ipython",
    "version": 3
   },
   "file_extension": ".py",
   "mimetype": "text/x-python",
   "name": "python",
   "nbconvert_exporter": "python",
   "pygments_lexer": "ipython3",
   "version": "3.10.8"
  }
 },
 "nbformat": 4,
 "nbformat_minor": 5
}
