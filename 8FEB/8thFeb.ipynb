{
 "cells": [
  {
   "cell_type": "markdown",
   "id": "7704d0a1-3d7b-4f62-863a-a4a1e57c4da3",
   "metadata": {},
   "source": [
    "Q1. What is Abstraction in OOps? Explain with an example.\n",
    "\n",
    "Abstraction in OOPs used to hide the implimentation details of the parent class and shows only relevent information to the users. \n",
    "To separate the public and private of a class."
   ]
  },
  {
   "cell_type": "code",
   "execution_count": 1,
   "id": "1ad56bcc-e5f5-4969-8f61-76eb1e624a30",
   "metadata": {},
   "outputs": [],
   "source": [
    "from abc import ABC, abstractmethod\n",
    "\n",
    "class Vehicle(ABC):\n",
    "    def __init__(self, name) -> None:\n",
    "        self.name = name\n",
    "        \n",
    "    def display(self):\n",
    "        return f'{self.name = }'\n",
    "    \n",
    "    @abstractmethod\n",
    "    def speed(self):\n",
    "        pass\n",
    "    \n",
    "\n",
    "class Car(Vehicle):\n",
    "    def speed(self):\n",
    "        return 40"
   ]
  },
  {
   "cell_type": "code",
   "execution_count": 2,
   "id": "d67bdc10-f574-41c9-95d7-2fcf2dce9c49",
   "metadata": {},
   "outputs": [
    {
     "data": {
      "text/plain": [
       "40"
      ]
     },
     "execution_count": 2,
     "metadata": {},
     "output_type": "execute_result"
    }
   ],
   "source": [
    "car1 = Car('Car1')\n",
    "car1.speed()"
   ]
  },
  {
   "cell_type": "markdown",
   "id": "44b99745-6842-4947-9686-82a605a60cd0",
   "metadata": {},
   "source": [
    "Q2. Differentiate between Abstraction and Encapsulation. Explain with an example.\n",
    "\n",
    "Abstraction is about hiding complexity of the class, while Encapsulation is about bundling data and methods of a class."
   ]
  },
  {
   "cell_type": "code",
   "execution_count": 6,
   "id": "9d518a8f-b081-4b92-be29-17a83c669965",
   "metadata": {},
   "outputs": [
    {
     "name": "stdout",
     "output_type": "stream",
     "text": [
      "Woof!\n",
      "Meow!\n"
     ]
    }
   ],
   "source": [
    "# Here is an example of an abstract class in Python:\n",
    "\n",
    "from abc import ABC, abstractmethod\n",
    "\n",
    "class Animal(ABC):\n",
    "    @abstractmethod\n",
    "    def speak(self):\n",
    "        pass\n",
    "\n",
    "class Dog(Animal):\n",
    "    def speak(self):\n",
    "        return \"Woof!\"\n",
    "\n",
    "class Cat(Animal):\n",
    "    def speak(self):\n",
    "        return \"Meow!\"\n",
    "\n",
    "animals = [Dog(), Cat()]\n",
    "\n",
    "for animal in animals:\n",
    "    print(animal.speak())\n"
   ]
  },
  {
   "cell_type": "code",
   "execution_count": 7,
   "id": "40e4a7d6-f9fc-48f0-970a-76c382a6365c",
   "metadata": {},
   "outputs": [
    {
     "name": "stdout",
     "output_type": "stream",
     "text": [
      "0\n",
      "60\n",
      "100\n",
      "50\n"
     ]
    }
   ],
   "source": [
    "# Here is an example of encapsulation in Python:\n",
    "\n",
    "class Car:\n",
    "    def __init__(self, speed, fuel):\n",
    "        self._speed = speed\n",
    "        self._fuel = fuel\n",
    "    \n",
    "    def get_speed(self):\n",
    "        return self._speed\n",
    "    \n",
    "    def set_speed(self, speed):\n",
    "        self._speed = speed\n",
    "    \n",
    "    def get_fuel(self):\n",
    "        return self._fuel\n",
    "    \n",
    "    def set_fuel(self, fuel):\n",
    "        self._fuel = fuel\n",
    "\n",
    "car = Car(0, 100)\n",
    "\n",
    "print(car.get_speed()) # 0\n",
    "car.set_speed(60)\n",
    "print(car.get_speed()) # 60\n",
    "\n",
    "print(car.get_fuel()) # 100\n",
    "car.set_fuel(50)\n",
    "print(car.get_fuel()) # 50\n"
   ]
  },
  {
   "cell_type": "markdown",
   "id": "cb293e3a-1338-4268-b348-808e5d3049d7",
   "metadata": {},
   "source": [
    "Q3. What is abc module in python? Why is it used?\n",
    "\n",
    "The abc (abstract base class) module in Python is used to define abstract base classes, which allow to make a blueprint of a class by specifing which method is abstract and concrete."
   ]
  },
  {
   "cell_type": "markdown",
   "id": "3a9a60ad-47b9-4b4a-8bbf-cf43dbfe83e3",
   "metadata": {},
   "source": [
    "Q4. How can we achieve data abstraction?\n",
    "\n",
    "Data abstraction can be impliment by defining class interfaces that specify the public methods that the derived classes should implement, while hiding the implementation details.\n",
    "\n",
    "This helps to separate the public and private parts of a class, enabling users to work with objects without having to know the underlying code."
   ]
  },
  {
   "cell_type": "markdown",
   "id": "8e73bc88-6513-465c-99b3-f4fc25e19635",
   "metadata": {},
   "source": [
    "Q5. Can we create an instance of an abstract class? Explain your answer.\n",
    "\n",
    "No, we cannot create an instance of an abstract class. Because it is known as the blueprint of a class.\n",
    "\n",
    "But we can acheive that by creating another class that inherite the abstract class and impliment the method define in the abstract class."
   ]
  },
  {
   "cell_type": "code",
   "execution_count": null,
   "id": "5e9fb416-0904-4bae-8cb2-4d5bd6058af8",
   "metadata": {},
   "outputs": [],
   "source": []
  }
 ],
 "metadata": {
  "kernelspec": {
   "display_name": "Python 3 (ipykernel)",
   "language": "python",
   "name": "python3"
  },
  "language_info": {
   "codemirror_mode": {
    "name": "ipython",
    "version": 3
   },
   "file_extension": ".py",
   "mimetype": "text/x-python",
   "name": "python",
   "nbconvert_exporter": "python",
   "pygments_lexer": "ipython3",
   "version": "3.10.8"
  }
 },
 "nbformat": 4,
 "nbformat_minor": 5
}
