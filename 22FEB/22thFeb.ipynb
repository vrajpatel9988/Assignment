{
 "cells": [
  {
   "cell_type": "markdown",
   "id": "01f2f90a-1748-4293-ac9a-fd5614a198b4",
   "metadata": {},
   "source": [
    "Go to this given URL and solve the following questions.\n",
    "\n",
    "    URL: https://www.youtube.com/@PW-Foundation/videos"
   ]
  },
  {
   "cell_type": "code",
   "execution_count": 1,
   "id": "d9b76251-eb85-4f36-93bd-42cc209e5154",
   "metadata": {},
   "outputs": [],
   "source": [
    "import requests\n",
    "from bs4 import BeautifulSoup\n",
    "from pandas import DataFrame\n",
    "from json import loads"
   ]
  },
  {
   "cell_type": "code",
   "execution_count": 2,
   "id": "c3384f9e-0c98-4e02-ada4-6c770e3ea156",
   "metadata": {},
   "outputs": [
    {
     "data": {
      "text/plain": [
       "<Response [200]>"
      ]
     },
     "execution_count": 2,
     "metadata": {},
     "output_type": "execute_result"
    }
   ],
   "source": [
    "url = 'https://www.youtube.com/@PW-Foundation/videos'\n",
    "\n",
    "# Get the html by get method\n",
    "r = requests.get(url)\n",
    "r"
   ]
  },
  {
   "cell_type": "code",
   "execution_count": 3,
   "id": "bd7f913c-a24f-4169-98d1-18bd91ede117",
   "metadata": {},
   "outputs": [],
   "source": [
    "# Create BeautifulSoup object\n",
    "soup = BeautifulSoup(r.text, 'html.parser')"
   ]
  },
  {
   "cell_type": "code",
   "execution_count": 4,
   "id": "a0fb1dce-7e74-4247-8e4c-efa6ca71b816",
   "metadata": {},
   "outputs": [],
   "source": [
    "all_script_tags = soup.findAll('script')"
   ]
  },
  {
   "cell_type": "code",
   "execution_count": 5,
   "id": "af67229c-9bc7-49b9-acc5-1d9d985044bc",
   "metadata": {},
   "outputs": [],
   "source": [
    "def script_tag_to_json(tags: list) -> dict:\n",
    "    for tag in reversed(tags):\n",
    "        text: str = tag.text\n",
    "        if 'ytInitialData = {\"responseContext\"' in text:\n",
    "            return loads(text[20:-1])\n",
    "\n",
    "    raise ValueError('Required script tag not found in the given tags.')"
   ]
  },
  {
   "cell_type": "code",
   "execution_count": 6,
   "id": "4df44273-f9d9-41b5-ae78-f42f026d2458",
   "metadata": {},
   "outputs": [],
   "source": [
    "data = script_tag_to_json(all_script_tags)"
   ]
  },
  {
   "cell_type": "code",
   "execution_count": 7,
   "id": "56ec7e1e-f967-4d13-a082-1e40d9c38edc",
   "metadata": {},
   "outputs": [],
   "source": [
    "def get_contents_dict(data):\n",
    "    return data['contents']['twoColumnBrowseResultsRenderer']['tabs'][1]['tabRenderer']['content']['richGridRenderer']['contents']"
   ]
  },
  {
   "cell_type": "markdown",
   "id": "8319ca91-8a29-42a6-88a2-e285e326106d",
   "metadata": {},
   "source": [
    "Q1. Write a python program to extract the video URL of the first five videos.\n",
    "\n",
    "Get Video ID"
   ]
  },
  {
   "cell_type": "code",
   "execution_count": 8,
   "id": "c823afef-05fd-4308-8191-192fb647c7c1",
   "metadata": {},
   "outputs": [
    {
     "data": {
      "text/plain": [
       "['https://www.youtube.com/watch?v=PI1obes98Zc',\n",
       " 'https://www.youtube.com/watch?v=16fUsD0M1-I',\n",
       " 'https://www.youtube.com/watch?v=S0RySN5arvk',\n",
       " 'https://www.youtube.com/watch?v=HzBhwxMrt8A',\n",
       " 'https://www.youtube.com/watch?v=60_B3haKADw']"
      ]
     },
     "execution_count": 8,
     "metadata": {},
     "output_type": "execute_result"
    }
   ],
   "source": [
    "def get_videoUrl(data:dict, n: int = 5):\n",
    "    contents = get_contents_dict(data)\n",
    "\n",
    "    if n > 30:\n",
    "        raise ValueError('Max Limit is 30.')\n",
    "\n",
    "    result = []\n",
    "    for i in range(n):\n",
    "        result.append('https://www.youtube.com/watch?v=' +\n",
    "                      contents[i]['richItemRenderer']['content']['videoRenderer']['videoId'])\n",
    "\n",
    "    return result\n",
    "\n",
    "get_videoUrl(data)"
   ]
  },
  {
   "cell_type": "markdown",
   "id": "4ae06174-f3da-432c-82a0-a7e72e4f3ef2",
   "metadata": {},
   "source": [
    "Q2. Write a python program to extract the URL of the video thumbnails of the first five videos.\n",
    "\n",
    "Get video thumbnails"
   ]
  },
  {
   "cell_type": "code",
   "execution_count": 9,
   "id": "71461c2c-70d9-43e9-a825-443b86f8e162",
   "metadata": {},
   "outputs": [
    {
     "data": {
      "text/plain": [
       "['https://i.ytimg.com/vi/PI1obes98Zc/hqdefault.jpg?sqp=-oaymwEjCNACELwBSFryq4qpAxUIARUAAAAAGAElAADIQj0AgKJDeAE=&rs=AOn4CLCmDshrYrFfclOymZmlDi79xYzKMA',\n",
       " 'https://i.ytimg.com/vi/16fUsD0M1-I/hqdefault.jpg?sqp=-oaymwEjCNACELwBSFryq4qpAxUIARUAAAAAGAElAADIQj0AgKJDeAE=&rs=AOn4CLDSdB3RrY_91M4wFdU8WorfjHTrGA',\n",
       " 'https://i.ytimg.com/vi/S0RySN5arvk/hqdefault.jpg?sqp=-oaymwEjCNACELwBSFryq4qpAxUIARUAAAAAGAElAADIQj0AgKJDeAE=&rs=AOn4CLAMklN-udq5wIHmAyDjx4yd4HxvGg',\n",
       " 'https://i.ytimg.com/vi/HzBhwxMrt8A/hqdefault.jpg?sqp=-oaymwEjCNACELwBSFryq4qpAxUIARUAAAAAGAElAADIQj0AgKJDeAE=&rs=AOn4CLDhGQyUAc5A_0sapaGDI_uDE_GNrg',\n",
       " 'https://i.ytimg.com/vi/60_B3haKADw/hqdefault.jpg?sqp=-oaymwEjCNACELwBSFryq4qpAxUIARUAAAAAGAElAADIQj0AgKJDeAE=&rs=AOn4CLCz1LFTtDzJooWDMArb4Qfh74PC_w']"
      ]
     },
     "execution_count": 9,
     "metadata": {},
     "output_type": "execute_result"
    }
   ],
   "source": [
    "def get_thumbnails(data: dict, n: int = 5):\n",
    "    contents = get_contents_dict(data)\n",
    "\n",
    "    if n > 30:\n",
    "        raise ValueError('Max Limit is 30.')\n",
    "\n",
    "    result = []\n",
    "    for i in range(n):\n",
    "        result.append(contents[i]['richItemRenderer']['content']['videoRenderer']['thumbnail']['thumbnails'][-1]['url'])\n",
    "\n",
    "    return result\n",
    "\n",
    "get_thumbnails(data)"
   ]
  },
  {
   "cell_type": "markdown",
   "id": "d0e0edf8-1258-4d72-96a0-b5e443852790",
   "metadata": {},
   "source": [
    "Q3. Write a python program to extract the title of the first five videos.\n",
    "\n",
    "Get video title"
   ]
  },
  {
   "cell_type": "code",
   "execution_count": 10,
   "id": "20bcbcd0-abfa-4b90-adf5-e68b7319fa95",
   "metadata": {},
   "outputs": [
    {
     "data": {
      "text/plain": [
       "['How to score 95%+ in class 10th? Complete year Powerful Strategy!!',\n",
       " 'Last 4 Days Left For SST Exam || How To Manage to Score 80/80 in Boards || Class-10th',\n",
       " 'Benefits of Choosing Commerce After 10th | Commerce क्यों लेना चाहिए? | CBSE | ICSE | State Boards',\n",
       " 'Complete 𝗖𝗔𝗥𝗕𝗢𝗡 𝗔𝗡𝗗 𝗜𝗧𝗦 𝗖𝗢𝗠𝗣𝗢𝗨𝗡𝗗𝗦 in 90 Minutes | Class 10th Board Exam',\n",
       " 'Complete 𝗠𝗘𝗧𝗔𝗟𝗦 & 𝗡𝗢𝗡 𝗠𝗘𝗧𝗔𝗟𝗦  in 120 Minutes | Class 10th Board Exam']"
      ]
     },
     "execution_count": 10,
     "metadata": {},
     "output_type": "execute_result"
    }
   ],
   "source": [
    "def get_title(data: dict, n:int = 5):\n",
    "    contents = get_contents_dict(data)\n",
    "\n",
    "    if n > 30:\n",
    "        raise ValueError('Max Limit is 30.')\n",
    "\n",
    "    result = []\n",
    "    for i in range(n):\n",
    "        result.append(contents[i]['richItemRenderer']['content']['videoRenderer']['title']['runs'][-1]['text'])\n",
    "\n",
    "    return result\n",
    "\n",
    "get_title(data)"
   ]
  },
  {
   "cell_type": "markdown",
   "id": "3c251100-935e-451b-a718-da47e30c61a6",
   "metadata": {},
   "source": [
    "Q4. Write a python program to extract the number of views of the first five videos.\n",
    "\n",
    "Get video views"
   ]
  },
  {
   "cell_type": "code",
   "execution_count": 11,
   "id": "fef07228-1be9-4ef3-b9ad-06997799ed41",
   "metadata": {},
   "outputs": [
    {
     "data": {
      "text/plain": [
       "[71626, 65460, 25152, 40533, 22047]"
      ]
     },
     "execution_count": 11,
     "metadata": {},
     "output_type": "execute_result"
    }
   ],
   "source": [
    "def get_viwes(data: dict, n: int = 5):\n",
    "    contents = get_contents_dict(data)\n",
    "\n",
    "    if n > 30:\n",
    "        raise ValueError('Max Limit is 30.')\n",
    "\n",
    "    result = []\n",
    "    for i in range(n):\n",
    "        result.append(int(contents[i]['richItemRenderer']['content']['videoRenderer']['viewCountText']['simpleText']\n",
    "                      [:-6].replace(',', '')))\n",
    "\n",
    "    return result\n",
    "\n",
    "get_viwes(data)"
   ]
  },
  {
   "cell_type": "markdown",
   "id": "14f13dda-27c5-46aa-9d87-a816e496391b",
   "metadata": {},
   "source": [
    "Q5. Write a python program to extract the time of posting of video for the first five videos.\n",
    "\n",
    "Get time of posting of video"
   ]
  },
  {
   "cell_type": "code",
   "execution_count": 12,
   "id": "0d14f1b8-dff2-4369-bfc8-bbbc4f89ba52",
   "metadata": {},
   "outputs": [
    {
     "data": {
      "text/plain": [
       "['2 days ago', '2 days ago', '6 days ago', '9 days ago', '9 days ago']"
      ]
     },
     "execution_count": 12,
     "metadata": {},
     "output_type": "execute_result"
    }
   ],
   "source": [
    "def get_time_of_posting(data: dict, n: int = 5):\n",
    "    contents = get_contents_dict(data)\n",
    "\n",
    "    if n > 30:\n",
    "        raise ValueError('Max Limit is 30.')\n",
    "\n",
    "    result = []\n",
    "    for i in range(n):\n",
    "        result.append(contents[i]['richItemRenderer']['content']['videoRenderer']['publishedTimeText']['simpleText'])\n",
    "\n",
    "    return result\n",
    "\n",
    "get_time_of_posting(data)"
   ]
  },
  {
   "cell_type": "markdown",
   "id": "d0afa40c-0385-4c00-b047-05afcf57bbb5",
   "metadata": {},
   "source": [
    "Note: Save all the data scraped in the above questions in a CSV file.\n",
    "\n",
    "Save data in CSV format."
   ]
  },
  {
   "cell_type": "code",
   "execution_count": 13,
   "id": "8adb16b6-beea-41b2-a8f6-7ff775c07880",
   "metadata": {},
   "outputs": [],
   "source": [
    "def get_channel_video_details(data: dict, n: int):\n",
    "    thumbnails = get_thumbnails(data, n)\n",
    "    time_of_posting = get_time_of_posting(data, n)\n",
    "    titles = get_title(data, n)\n",
    "    video_urls = get_videoUrl(data, n)\n",
    "\n",
    "    main_data = list(zip(video_urls, titles, thumbnails, time_of_posting))\n",
    "    \n",
    "    df = DataFrame.from_dict(main_data)\n",
    "    df.rename(\n",
    "        columns={\n",
    "            0: 'video_urls',\n",
    "            1: 'title',\n",
    "            2: 'thumbnail_url',\n",
    "            3: 'time_of_posting'\n",
    "        }, inplace=True)\n",
    "\n",
    "    return df"
   ]
  },
  {
   "cell_type": "code",
   "execution_count": 14,
   "id": "57b4c4ba-d290-4527-a62d-bb995c5fc0ec",
   "metadata": {},
   "outputs": [],
   "source": [
    "channel_data = get_channel_video_details(data, 30)"
   ]
  },
  {
   "cell_type": "code",
   "execution_count": 15,
   "id": "9ec50d19-9f25-4fe5-9583-e4d00549bd3f",
   "metadata": {},
   "outputs": [],
   "source": [
    "channel_data.to_csv('PW-Foundation.csv', index=False)"
   ]
  },
  {
   "cell_type": "code",
   "execution_count": null,
   "id": "61de64ab-41d5-47e1-b128-d8fce4445130",
   "metadata": {},
   "outputs": [],
   "source": []
  }
 ],
 "metadata": {
  "kernelspec": {
   "display_name": "Python 3 (ipykernel)",
   "language": "python",
   "name": "python3"
  },
  "language_info": {
   "codemirror_mode": {
    "name": "ipython",
    "version": 3
   },
   "file_extension": ".py",
   "mimetype": "text/x-python",
   "name": "python",
   "nbconvert_exporter": "python",
   "pygments_lexer": "ipython3",
   "version": "3.10.8"
  }
 },
 "nbformat": 4,
 "nbformat_minor": 5
}
