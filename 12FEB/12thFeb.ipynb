{
 "cells": [
  {
   "cell_type": "markdown",
   "id": "4f75dc84-6116-4498-824a-a6c6018872d2",
   "metadata": {},
   "source": [
    "Q1. What is an Exception in python? Write the difference between Exceptions and Syntax errors.\n",
    "\n",
    "An Exception in python is an error that occurs during the execution of a program. It can be handled to prevent the program from crashing.\n",
    "\n",
    "On the other hand, Syntax errors are issues with the code that prevent it from running due to incorrect syntax."
   ]
  },
  {
   "cell_type": "markdown",
   "id": "1da1f581-6041-47dd-8768-5da8f6b0a93a",
   "metadata": {},
   "source": [
    "Q2. What happens when an exception is not handled? Explain with an example.\n",
    "\n",
    "When Exception is handel the program raise an error and exit the program."
   ]
  },
  {
   "cell_type": "code",
   "execution_count": 1,
   "id": "df73991d-65bc-459c-b8d6-c9d9cf74dc24",
   "metadata": {},
   "outputs": [
    {
     "ename": "TypeError",
     "evalue": "'str' object does not support item assignment",
     "output_type": "error",
     "traceback": [
      "\u001b[0;31m---------------------------------------------------------------------------\u001b[0m",
      "\u001b[0;31mTypeError\u001b[0m                                 Traceback (most recent call last)",
      "Cell \u001b[0;32mIn[1], line 3\u001b[0m\n\u001b[1;32m      1\u001b[0m name \u001b[38;5;241m=\u001b[39m \u001b[38;5;124m'\u001b[39m\u001b[38;5;124mVraj Patel\u001b[39m\u001b[38;5;124m'\u001b[39m\n\u001b[0;32m----> 3\u001b[0m \u001b[43mname\u001b[49m\u001b[43m[\u001b[49m\u001b[38;5;241;43m0\u001b[39;49m\u001b[43m]\u001b[49m \u001b[38;5;241m=\u001b[39m \u001b[38;5;124m'\u001b[39m\u001b[38;5;124ma\u001b[39m\u001b[38;5;124m'\u001b[39m\n\u001b[1;32m      4\u001b[0m \u001b[38;5;66;03m# Raise a TypeError: 'str' object does not support item assignment\u001b[39;00m\n",
      "\u001b[0;31mTypeError\u001b[0m: 'str' object does not support item assignment"
     ]
    }
   ],
   "source": [
    "name = 'Vraj Patel'\n",
    "\n",
    "name[0] = 'a'\n",
    "# Raise a TypeError: 'str' object does not support item assignment"
   ]
  },
  {
   "cell_type": "markdown",
   "id": "5f7ef687-7ee6-4b1e-8e67-937caa6233e9",
   "metadata": {},
   "source": [
    "Q3. Which Python statements are used to catch and handle exceptions? Explain with an example.\n",
    "\n",
    "try and except statement is used to handel exceptions in python."
   ]
  },
  {
   "cell_type": "code",
   "execution_count": 2,
   "id": "3b8814fd-c646-4256-9a79-9957904f4e08",
   "metadata": {},
   "outputs": [
    {
     "name": "stdout",
     "output_type": "stream",
     "text": [
      "Python string does not support item assignment.\n"
     ]
    }
   ],
   "source": [
    "try:\n",
    "    name[0] = 'a'\n",
    "except TypeError:\n",
    "    print('Python string does not support item assignment.')"
   ]
  },
  {
   "cell_type": "markdown",
   "id": "fd17fd81-9052-4e75-83d7-ca98b2092f3c",
   "metadata": {},
   "source": [
    "Q4. Explain with an example:\n",
    "\n",
    "    try and else\n",
    "    finally\n",
    "    raise"
   ]
  },
  {
   "cell_type": "code",
   "execution_count": 3,
   "id": "5c4b3095-441d-4482-b6d9-d4e9f022ed6b",
   "metadata": {},
   "outputs": [
    {
     "name": "stdout",
     "output_type": "stream",
     "text": [
      "File not found to read.\n",
      "Finally block excuted!\n"
     ]
    }
   ],
   "source": [
    "# try and else\n",
    "try:\n",
    "    with open('test.json', 'r') as f:\n",
    "        print('File Found and Opened.')\n",
    "except FileNotFoundError:\n",
    "    print('File not found to read.')\n",
    "else:\n",
    "    print(24+45 - (2**3))\n",
    "finally:\n",
    "    print('Finally block excuted!')"
   ]
  },
  {
   "cell_type": "code",
   "execution_count": 7,
   "id": "37c49c66-0ea9-448c-83f7-eaf602c15729",
   "metadata": {},
   "outputs": [
    {
     "name": "stdin",
     "output_type": "stream",
     "text": [
      "Enter a number:  23\n"
     ]
    },
    {
     "name": "stdout",
     "output_type": "stream",
     "text": [
      "4.3478260869565215\n"
     ]
    }
   ],
   "source": [
    "num = int(input('Enter a number: '))\n",
    "\n",
    "if num == 0:\n",
    "    raise ZeroDivisionError('Enter a nubmber less than or more than zero.')\n",
    "else:\n",
    "    print(100 / num)"
   ]
  },
  {
   "cell_type": "markdown",
   "id": "d71f4bf2-1ba2-415f-b7f7-d2db5a92b90d",
   "metadata": {},
   "source": [
    "Q5. What are Custom Exceptions in python? Why do we need Custom Exceptions? Explain with an example.\n",
    "\n",
    "Custom Exception can be raised when specific error occured in program.\n",
    "\n",
    "We need custom Exception beacause they provide meaningful error messages and to handle specific error conditions in a more controlled way.\n",
    "\n",
    "Example: Raising a custom exception for low account balance."
   ]
  },
  {
   "cell_type": "markdown",
   "id": "16150623-878c-4d6e-a01c-41849bb9c239",
   "metadata": {},
   "source": [
    "Q6. Create a custom exception class. Use this class to handle an exception."
   ]
  },
  {
   "cell_type": "code",
   "execution_count": 8,
   "id": "e877a927-db82-4844-86da-a0b4d0ad8a69",
   "metadata": {},
   "outputs": [
    {
     "name": "stdout",
     "output_type": "stream",
     "text": [
      "Insufficient balance in your account.\n",
      "Withdrawn: 50\n",
      "Remaining balance: 50\n"
     ]
    }
   ],
   "source": [
    "class InsufficientBalanceError(Exception):\n",
    "    def __init__(self, *args: object) -> None:\n",
    "        super().__init__(*args)\n",
    "\n",
    "class Account:\n",
    "    def __init__(self, balance):\n",
    "        self.balance = balance\n",
    "        \n",
    "    def withdraw(self, amount):\n",
    "        if self.balance < amount:\n",
    "            raise InsufficientBalanceError(\"Insufficient balance in your account.\")\n",
    "        self.balance -= amount\n",
    "        print(\"Withdrawn:\", amount)\n",
    "        print(\"Remaining balance:\", self.balance)\n",
    "\n",
    "a = Account(100)\n",
    "try:\n",
    "    a.withdraw(200)\n",
    "except InsufficientBalanceError as e:\n",
    "    print(e)\n",
    "finally:\n",
    "    a.withdraw(50)"
   ]
  },
  {
   "cell_type": "code",
   "execution_count": null,
   "id": "2ad0eab4-f4c1-4b37-a915-a65a37f6a2df",
   "metadata": {},
   "outputs": [],
   "source": []
  }
 ],
 "metadata": {
  "kernelspec": {
   "display_name": "Python 3 (ipykernel)",
   "language": "python",
   "name": "python3"
  },
  "language_info": {
   "codemirror_mode": {
    "name": "ipython",
    "version": 3
   },
   "file_extension": ".py",
   "mimetype": "text/x-python",
   "name": "python",
   "nbconvert_exporter": "python",
   "pygments_lexer": "ipython3",
   "version": "3.10.8"
  }
 },
 "nbformat": 4,
 "nbformat_minor": 5
}
