{
 "cells": [
  {
   "cell_type": "raw",
   "id": "7766de3c-94e3-49b1-8d72-4c62f18e8363",
   "metadata": {},
   "source": [
    "1. Who developed Python Programming Language?\n",
    "\n",
    "A. Python was created by Guido van Rossum and first released on February 20, 1991."
   ]
  },
  {
   "cell_type": "raw",
   "id": "76c443ab-95e7-4461-8f0a-498b052ef8f0",
   "metadata": {},
   "source": [
    "2. Which type of Programming does Python support?\n",
    "\n",
    "A. Python is an interpreted programming language, supporting object-oriented, structured, and functional programming."
   ]
  },
  {
   "cell_type": "raw",
   "id": "f366b4f3-3858-4616-aa29-93279dbf7437",
   "metadata": {},
   "source": [
    "3. Is Python case sensitive when dealing with identifiers?\n",
    "\n",
    "A. Yes, Python is a case-sensitive language."
   ]
  },
  {
   "cell_type": "raw",
   "id": "3aaa04b2-6790-4f8f-952c-2335ae19d65f",
   "metadata": {},
   "source": [
    "4. What is the correct extension of the Python file?\n",
    "\n",
    "A. .py"
   ]
  },
  {
   "cell_type": "raw",
   "id": "432c07d1-38fb-4394-a4b1-7b562a1e7e90",
   "metadata": {},
   "source": [
    "5. Is Python code compiled or interpreted?\n",
    "\n",
    "A. Python is an interpreted language."
   ]
  },
  {
   "cell_type": "raw",
   "id": "434eb1a7-0126-423a-a838-5ea066f65858",
   "metadata": {},
   "source": [
    "6. Name a few blocks of code used to define in Python language?\n",
    "\n",
    "A. \n",
    "Example 1: Program for Checking names using Python\n",
    "\n",
    "name = 'Vraj'\n",
    "    \n",
    "if name == 'Vraj':\n",
    "    print('Correct Name!!')\n",
    "else:\n",
    "\tprint('InCorrect Name:(')\n",
    "print('HI')\n",
    "\n",
    "Example 2: Showcasing use of Indentation in Python using loop\n",
    "\n",
    "i = 1\n",
    "while(i<=4):\n",
    "     print(i)\n",
    "     i = i + 1\n"
   ]
  },
  {
   "cell_type": "raw",
   "id": "69701141-3c57-431c-a6ad-781523d33941",
   "metadata": {},
   "source": [
    "7. State a character used to give single-line comments in Python?\n",
    "\n",
    "A. (#) "
   ]
  },
  {
   "cell_type": "raw",
   "id": "51e5bc50-9e83-4f5c-9cb6-eee2d6df4c24",
   "metadata": {},
   "source": [
    "8. Mention functions which can help us to find the version of python that we are currently working on?\n",
    "\n",
    "A. \n",
    "Using sys.version method\n",
    "Using python_version() function\n",
    "Using Python -V command"
   ]
  },
  {
   "cell_type": "raw",
   "id": "4852ef82-d1b0-4b0f-a983-cdf363ceb4d8",
   "metadata": {},
   "source": [
    "9. Python supports the creation of anonymous functions at runtime, using a construct called_____\n",
    "\n",
    "A. lambda"
   ]
  },
  {
   "cell_type": "raw",
   "id": "88f72649-6e07-4a7a-bf72-48fe319c14c0",
   "metadata": {},
   "source": [
    "10. What does pip stand for python?\n",
    "\n",
    "A. PIP is a recursive acronym for “Preferred Installer Program” or PIP Installs Packages. It is a command-line utility that installs, reinstalls, or uninstalls PyPI packages with one simple command: pip. "
   ]
  },
  {
   "cell_type": "raw",
   "id": "e5fcdfc9-4f7d-43e6-a60a-163cefba9213",
   "metadata": {},
   "source": [
    "11. Mention a few built-in functions in python?\n",
    "\n",
    "A. \n",
    "Function\tDescription\n",
    "bool()      Returns the boolean value of the specified object\n",
    "complex()   Returns a complex number\n",
    "dict()      Returns a dictionary (Array)\n",
    "float()     Returns a floating point number\n",
    "len()       Returns the length of an object\n",
    "print()     Prints to the standard output device\n",
    "slice()\t    Returns a slice object\n",
    "type()\t    Returns the type of an object"
   ]
  },
  {
   "cell_type": "raw",
   "id": "7c91d477-47ec-4be7-a00c-6030934f9c02",
   "metadata": {},
   "source": [
    "12. What is the maximum possible length of an identifier in Python?\n",
    "\n",
    "A.  79 characters"
   ]
  },
  {
   "cell_type": "raw",
   "id": "4c659fd7-f204-4c99-84ab-a99ee9d0123c",
   "metadata": {},
   "source": [
    "13. What are the benefits of using Python?\n",
    "\n",
    "A.\n",
    "Advantages: \n",
    "Presence of third-party modules \n",
    "Extensive support libraries(NumPy for numerical calculations, Pandas for data analytics, etc.) \n",
    "Open source and large active community base \n",
    "Versatile, Easy to read, learn and write\n",
    "User-friendly data structures \n",
    "High-level language \n",
    "Dynamically typed language(No need to mention data type based on the value assigned, it takes data type) \n",
    "Object-Oriented and Procedural  Programming language\n",
    "Portable and Interactive\n",
    "Ideal for prototypes – provide more functionality with less coding\n",
    "Highly Efficient(Python’s clean object-oriented design provides enhanced process control, and the language is equipped with excellent text processing and integration capabilities, as well as its own unit testing framework, which makes it more efficient.)\n",
    "Internet of Things(IoT) Opportunities\n",
    "Interpreted Language\n",
    "Portable across Operating systems "
   ]
  },
  {
   "cell_type": "raw",
   "id": "c4f07d7c-2daf-4ffc-bcfc-94f68aa545f5",
   "metadata": {},
   "source": [
    "14. How is memory managed in Python?\n",
    "\n",
    "A. Memory management in Python involves a private heap containing all Python objects and data structures. The management of this private heap is ensured internally by the Python memory manager."
   ]
  },
  {
   "cell_type": "raw",
   "id": "48756670-10f4-4d21-a911-cb9cfdf23de8",
   "metadata": {},
   "source": [
    "15. How to install Python on Windows and set path variables?\n",
    "\n",
    "A.\n",
    "first download python from www.python.org website and then install it in your pc.\n",
    "\n",
    "set path variables:-\n",
    "\n",
    "1.Right-clicking This PC and going to Properties.\n",
    "\n",
    "2.Clicking on the Advanced system settings in the menu on the left.\n",
    "\n",
    "3.Clicking on the Environment Variables button o​n the bottom right.\n",
    "\n",
    "4.In the System variables section, selecting the Path variable and clicking on Edit. The next screen will show all the directories that are currently a part of the PATH variable.\n",
    "\n",
    "5.Clicking on New and entering Python’s install directory.\n"
   ]
  },
  {
   "cell_type": "raw",
   "id": "72e645a6-00d4-4da7-9f18-5d3d2e87f57c",
   "metadata": {},
   "source": [
    "16. Is indentation required in python?\n",
    "\n",
    "A. Yes"
   ]
  }
 ],
 "metadata": {
  "kernelspec": {
   "display_name": "Python 3 (ipykernel)",
   "language": "python",
   "name": "python3"
  },
  "language_info": {
   "codemirror_mode": {
    "name": "ipython",
    "version": 3
   },
   "file_extension": ".py",
   "mimetype": "text/x-python",
   "name": "python",
   "nbconvert_exporter": "python",
   "pygments_lexer": "ipython3",
   "version": "3.10.8"
  }
 },
 "nbformat": 4,
 "nbformat_minor": 5
}
