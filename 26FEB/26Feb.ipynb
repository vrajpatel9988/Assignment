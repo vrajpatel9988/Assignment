{
 "cells": [
  {
   "cell_type": "markdown",
   "id": "f63ad204-996a-4e9d-b9bf-b543ae480e26",
   "metadata": {},
   "source": [
    "Consider the below code to answer further questions:"
   ]
  },
  {
   "cell_type": "code",
   "execution_count": 1,
   "id": "94fa412a-94e1-48cb-bdea-ba27457cb876",
   "metadata": {},
   "outputs": [],
   "source": [
    "import numpy as np\n",
    "list_ = ['1', '2', '3', '4', '5']\n",
    "array_list = np.array(object=list_)"
   ]
  },
  {
   "cell_type": "markdown",
   "id": "69f39cbc-c081-42a4-a5d5-bdb2b409dd52",
   "metadata": {},
   "source": [
    "Q1. Is there any difference in the data type of variables list_ and array_list? If there is then write a code to print the data types of both the variables."
   ]
  },
  {
   "cell_type": "code",
   "execution_count": 2,
   "id": "2d0ef770-89d5-4281-92da-b922fbc1b449",
   "metadata": {},
   "outputs": [
    {
     "name": "stdout",
     "output_type": "stream",
     "text": [
      "Data Type of list_ : <class 'str'>\n",
      "Data Type of array_list : <U1\n"
     ]
    }
   ],
   "source": [
    "print('Data Type of list_ :', type(list_[0]))\n",
    "print('Data Type of array_list :', array_list.dtype)"
   ]
  },
  {
   "cell_type": "markdown",
   "id": "102d64cf-4d9c-49ba-b5bd-df72815fba67",
   "metadata": {},
   "source": [
    "Q2. Write a code to print the data type of each and every element of both the variables list_ and array_list."
   ]
  },
  {
   "cell_type": "code",
   "execution_count": 3,
   "id": "39434ed2-aac1-46b7-959a-ce5e00311dff",
   "metadata": {},
   "outputs": [
    {
     "name": "stdout",
     "output_type": "stream",
     "text": [
      "Data Type of 1 list_: <class 'str'>\n",
      "Data Type of 2 list_: <class 'str'>\n",
      "Data Type of 3 list_: <class 'str'>\n",
      "Data Type of 4 list_: <class 'str'>\n",
      "Data Type of 5 list_: <class 'str'>\n",
      "--+----+----+----+----+----+----+----+----+----+--\n",
      "Data Type of 1 in array_list: <class 'numpy.str_'>\n",
      "Data Type of 2 in array_list: <class 'numpy.str_'>\n",
      "Data Type of 3 in array_list: <class 'numpy.str_'>\n",
      "Data Type of 4 in array_list: <class 'numpy.str_'>\n",
      "Data Type of 5 in array_list: <class 'numpy.str_'>\n"
     ]
    }
   ],
   "source": [
    "# For list_ variable\n",
    "for i in list_:\n",
    "    print(f'Data Type of {i} list_:', type(i))\n",
    "\n",
    "print('--+--' * 10)\n",
    "\n",
    "for j in array_list:\n",
    "    print(f'Data Type of {j} in array_list:', type(j))"
   ]
  },
  {
   "cell_type": "markdown",
   "id": "398d3412-3ec5-4e97-8bec-520bb3b60764",
   "metadata": {},
   "source": [
    "Q3. Considering the following changes in the variable, array_list:\n",
    "\n",
    "array_list = np.array(object = list_, dtype = int)\n",
    "\n",
    "Will there be any difference in the data type of the elements present in both the variables, list_ and array_list? If so then print the data types of each and every element present in both the variables, list_ and arra_list."
   ]
  },
  {
   "cell_type": "code",
   "execution_count": 4,
   "id": "9611aa22-29cd-40af-b516-d794fd9f42c4",
   "metadata": {},
   "outputs": [],
   "source": [
    "# Changes in array_list variable\n",
    "array_list = np.array(object = list_, dtype = int)"
   ]
  },
  {
   "cell_type": "code",
   "execution_count": 5,
   "id": "2dda26f2-c9f7-4bf1-8bd2-01b410a16999",
   "metadata": {},
   "outputs": [
    {
     "name": "stdout",
     "output_type": "stream",
     "text": [
      "Data Type of 1 list_: <class 'str'>\n",
      "Data Type of 2 list_: <class 'str'>\n",
      "Data Type of 3 list_: <class 'str'>\n",
      "Data Type of 4 list_: <class 'str'>\n",
      "Data Type of 5 list_: <class 'str'>\n",
      "--+----+----+----+----+----+----+----+----+----+--\n",
      "Data Type of 1 in array_list: <class 'numpy.int64'>\n",
      "Data Type of 2 in array_list: <class 'numpy.int64'>\n",
      "Data Type of 3 in array_list: <class 'numpy.int64'>\n",
      "Data Type of 4 in array_list: <class 'numpy.int64'>\n",
      "Data Type of 5 in array_list: <class 'numpy.int64'>\n"
     ]
    }
   ],
   "source": [
    "# For list_ variable\n",
    "for i in list_:\n",
    "    print(f'Data Type of {i} list_:', type(i))\n",
    "\n",
    "print('--+--' * 10)\n",
    "\n",
    "for j in array_list:\n",
    "    print(f'Data Type of {j} in array_list:', type(j))"
   ]
  },
  {
   "cell_type": "markdown",
   "id": "b3675da7-14ec-4ede-ac3f-7b2f030a9703",
   "metadata": {},
   "source": [
    "Consider the below code to answer further questions:"
   ]
  },
  {
   "cell_type": "code",
   "execution_count": 6,
   "id": "0a51803d-a46d-4491-9dc2-65a7a0edb091",
   "metadata": {},
   "outputs": [],
   "source": [
    "import numpy as np\n",
    "num_list = [[1, 2, 3], [4, 5, 6]]\n",
    "num_array = np.array(object=num_list)"
   ]
  },
  {
   "cell_type": "markdown",
   "id": "6e8ca5de-7b50-4872-b62b-5728b46670a0",
   "metadata": {},
   "source": [
    "Q4. Write a code to find the following characteristics of variable num_array:\n",
    "\n",
    "    1.shape\n",
    "\n",
    "    2.size"
   ]
  },
  {
   "cell_type": "code",
   "execution_count": 7,
   "id": "841af449-5f6b-47cf-88ab-43add2c0e5ba",
   "metadata": {},
   "outputs": [
    {
     "name": "stdout",
     "output_type": "stream",
     "text": [
      "1. Shape : (2, 3)\n",
      "2. Size : 6\n"
     ]
    }
   ],
   "source": [
    "print('1. Shape :', num_array.shape)\n",
    "print('2. Size :', num_array.size)"
   ]
  },
  {
   "cell_type": "markdown",
   "id": "fff03759-cd67-43a8-bca8-802a696ff765",
   "metadata": {},
   "source": [
    "Q5. Write a code to create numpy array of 3*3 matrix containing zeros only, using a numpy array creation function.\n",
    "\n",
    "Hint: The size of the array will be 9 and the shape will be (3,3)."
   ]
  },
  {
   "cell_type": "code",
   "execution_count": 8,
   "id": "900de0fb-5ab4-427b-9780-c9aa5d4ccae5",
   "metadata": {},
   "outputs": [
    {
     "data": {
      "text/plain": [
       "array([[0., 0., 0.],\n",
       "       [0., 0., 0.],\n",
       "       [0., 0., 0.]])"
      ]
     },
     "execution_count": 8,
     "metadata": {},
     "output_type": "execute_result"
    }
   ],
   "source": [
    "np.zeros((3,3))"
   ]
  },
  {
   "cell_type": "markdown",
   "id": "5fc6ac27-fd94-4a05-9e24-dfbe3b35f4a4",
   "metadata": {},
   "source": [
    "Q6. Create an identity matrix of shape (5,5) using numpy functions?\n",
    "\n",
    "Hint: An identity matrix is a matrix containing 1 diagonally and other elements will be 0."
   ]
  },
  {
   "cell_type": "code",
   "execution_count": 9,
   "id": "5ad4aaef-145a-47bc-839e-4e38d6dbd140",
   "metadata": {},
   "outputs": [
    {
     "data": {
      "text/plain": [
       "array([[1., 0., 0., 0., 0.],\n",
       "       [0., 1., 0., 0., 0.],\n",
       "       [0., 0., 1., 0., 0.],\n",
       "       [0., 0., 0., 1., 0.],\n",
       "       [0., 0., 0., 0., 1.]])"
      ]
     },
     "execution_count": 9,
     "metadata": {},
     "output_type": "execute_result"
    }
   ],
   "source": [
    "np.identity(5)"
   ]
  },
  {
   "cell_type": "code",
   "execution_count": 10,
   "id": "cd759e03-cad8-4728-b096-46b06e21fc49",
   "metadata": {},
   "outputs": [
    {
     "data": {
      "text/plain": [
       "array([[1., 0., 0., 0., 0.],\n",
       "       [0., 1., 0., 0., 0.],\n",
       "       [0., 0., 1., 0., 0.],\n",
       "       [0., 0., 0., 1., 0.],\n",
       "       [0., 0., 0., 0., 1.]])"
      ]
     },
     "execution_count": 10,
     "metadata": {},
     "output_type": "execute_result"
    }
   ],
   "source": [
    "np.eye(5)"
   ]
  },
  {
   "cell_type": "code",
   "execution_count": null,
   "id": "6acce25d-cc1e-4709-ab18-ef36750d8de6",
   "metadata": {},
   "outputs": [],
   "source": []
  }
 ],
 "metadata": {
  "kernelspec": {
   "display_name": "Python 3 (ipykernel)",
   "language": "python",
   "name": "python3"
  },
  "language_info": {
   "codemirror_mode": {
    "name": "ipython",
    "version": 3
   },
   "file_extension": ".py",
   "mimetype": "text/x-python",
   "name": "python",
   "nbconvert_exporter": "python",
   "pygments_lexer": "ipython3",
   "version": "3.10.8"
  }
 },
 "nbformat": 4,
 "nbformat_minor": 5
}
